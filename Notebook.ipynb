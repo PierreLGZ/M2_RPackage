{
 "cells": [
  {
   "cell_type": "markdown",
   "metadata": {},
   "source": [
    "# Régression logistique avec descente de gradient et calcul parallèle"
   ]
  },
  {
   "cell_type": "code",
   "execution_count": 3,
   "metadata": {},
   "outputs": [
    {
     "name": "stderr",
     "output_type": "stream",
     "text": [
      "Loading required package: usethis\n",
      "\n"
     ]
    }
   ],
   "source": [
    "library(readxl)\n",
    "library(ggplot2)\n",
    "library(devtools)"
   ]
  },
  {
   "cell_type": "code",
   "execution_count": 4,
   "metadata": {},
   "outputs": [
    {
     "data": {
      "text/html": [
       "<table class=\"dataframe\">\n",
       "<caption>A tibble: 699 × 10</caption>\n",
       "<thead>\n",
       "\t<tr><th scope=col>clump</th><th scope=col>ucellsize</th><th scope=col>ucellshape</th><th scope=col>mgadhesion</th><th scope=col>sepics</th><th scope=col>bnuclei</th><th scope=col>bchromatin</th><th scope=col>normnucl</th><th scope=col>mitoses</th><th scope=col>classe</th></tr>\n",
       "\t<tr><th scope=col>&lt;dbl&gt;</th><th scope=col>&lt;dbl&gt;</th><th scope=col>&lt;dbl&gt;</th><th scope=col>&lt;dbl&gt;</th><th scope=col>&lt;dbl&gt;</th><th scope=col>&lt;dbl&gt;</th><th scope=col>&lt;dbl&gt;</th><th scope=col>&lt;dbl&gt;</th><th scope=col>&lt;dbl&gt;</th><th scope=col>&lt;chr&gt;</th></tr>\n",
       "</thead>\n",
       "<tbody>\n",
       "\t<tr><td>10</td><td> 6</td><td>6</td><td>2</td><td> 4</td><td>10</td><td>9</td><td> 7</td><td>1</td><td>malignant</td></tr>\n",
       "\t<tr><td> 4</td><td> 2</td><td>2</td><td>1</td><td> 2</td><td> 1</td><td>2</td><td> 1</td><td>1</td><td>begnin   </td></tr>\n",
       "\t<tr><td> 1</td><td> 1</td><td>1</td><td>1</td><td> 2</td><td> 1</td><td>2</td><td> 1</td><td>1</td><td>begnin   </td></tr>\n",
       "\t<tr><td> 2</td><td> 1</td><td>1</td><td>1</td><td> 2</td><td> 1</td><td>2</td><td> 1</td><td>1</td><td>begnin   </td></tr>\n",
       "\t<tr><td> 4</td><td> 1</td><td>1</td><td>1</td><td> 2</td><td> 1</td><td>2</td><td> 1</td><td>1</td><td>begnin   </td></tr>\n",
       "\t<tr><td> 1</td><td> 1</td><td>1</td><td>1</td><td> 2</td><td> 1</td><td>1</td><td> 1</td><td>1</td><td>begnin   </td></tr>\n",
       "\t<tr><td> 1</td><td> 1</td><td>1</td><td>1</td><td> 2</td><td> 1</td><td>2</td><td> 1</td><td>1</td><td>begnin   </td></tr>\n",
       "\t<tr><td> 5</td><td> 1</td><td>1</td><td>1</td><td> 2</td><td> 1</td><td>2</td><td> 1</td><td>1</td><td>begnin   </td></tr>\n",
       "\t<tr><td> 3</td><td> 1</td><td>1</td><td>1</td><td> 2</td><td> 1</td><td>2</td><td> 1</td><td>1</td><td>begnin   </td></tr>\n",
       "\t<tr><td> 1</td><td> 1</td><td>1</td><td>1</td><td> 2</td><td> 4</td><td>2</td><td> 1</td><td>1</td><td>begnin   </td></tr>\n",
       "\t<tr><td> 5</td><td> 3</td><td>3</td><td>2</td><td> 3</td><td> 1</td><td>3</td><td> 1</td><td>1</td><td>begnin   </td></tr>\n",
       "\t<tr><td> 4</td><td> 2</td><td>2</td><td>1</td><td> 2</td><td> 1</td><td>2</td><td> 1</td><td>1</td><td>begnin   </td></tr>\n",
       "\t<tr><td> 1</td><td> 1</td><td>1</td><td>1</td><td> 2</td><td> 1</td><td>2</td><td> 1</td><td>1</td><td>begnin   </td></tr>\n",
       "\t<tr><td> 2</td><td> 1</td><td>1</td><td>1</td><td> 2</td><td> 1</td><td>2</td><td> 1</td><td>1</td><td>begnin   </td></tr>\n",
       "\t<tr><td> 4</td><td> 1</td><td>1</td><td>1</td><td> 2</td><td> 1</td><td>3</td><td> 2</td><td>1</td><td>begnin   </td></tr>\n",
       "\t<tr><td> 1</td><td> 1</td><td>1</td><td>1</td><td> 2</td><td> 1</td><td>3</td><td> 1</td><td>1</td><td>begnin   </td></tr>\n",
       "\t<tr><td> 6</td><td> 1</td><td>3</td><td>2</td><td> 2</td><td> 1</td><td>1</td><td> 1</td><td>1</td><td>begnin   </td></tr>\n",
       "\t<tr><td> 3</td><td> 1</td><td>1</td><td>2</td><td> 3</td><td> 4</td><td>1</td><td> 1</td><td>1</td><td>begnin   </td></tr>\n",
       "\t<tr><td> 2</td><td> 1</td><td>1</td><td>1</td><td> 2</td><td> 1</td><td>3</td><td> 1</td><td>1</td><td>begnin   </td></tr>\n",
       "\t<tr><td> 5</td><td> 5</td><td>5</td><td>8</td><td>10</td><td> 8</td><td>7</td><td> 3</td><td>7</td><td>malignant</td></tr>\n",
       "\t<tr><td> 1</td><td> 1</td><td>1</td><td>1</td><td> 2</td><td> 1</td><td>3</td><td> 1</td><td>1</td><td>begnin   </td></tr>\n",
       "\t<tr><td> 1</td><td> 1</td><td>1</td><td>1</td><td> 2</td><td> 1</td><td>2</td><td> 1</td><td>2</td><td>begnin   </td></tr>\n",
       "\t<tr><td> 1</td><td> 1</td><td>1</td><td>1</td><td> 1</td><td> 1</td><td>1</td><td> 1</td><td>1</td><td>begnin   </td></tr>\n",
       "\t<tr><td> 9</td><td> 8</td><td>8</td><td>9</td><td> 6</td><td> 3</td><td>4</td><td> 1</td><td>1</td><td>malignant</td></tr>\n",
       "\t<tr><td> 1</td><td> 1</td><td>1</td><td>1</td><td> 2</td><td> 1</td><td>3</td><td> 1</td><td>1</td><td>begnin   </td></tr>\n",
       "\t<tr><td> 1</td><td> 1</td><td>3</td><td>1</td><td> 2</td><td> 1</td><td>1</td><td> 1</td><td>1</td><td>begnin   </td></tr>\n",
       "\t<tr><td> 8</td><td> 7</td><td>8</td><td>5</td><td>10</td><td>10</td><td>7</td><td> 2</td><td>1</td><td>malignant</td></tr>\n",
       "\t<tr><td> 5</td><td> 2</td><td>2</td><td>2</td><td> 2</td><td> 1</td><td>1</td><td> 1</td><td>2</td><td>begnin   </td></tr>\n",
       "\t<tr><td> 1</td><td> 1</td><td>1</td><td>1</td><td> 2</td><td> 1</td><td>1</td><td> 1</td><td>1</td><td>begnin   </td></tr>\n",
       "\t<tr><td>10</td><td>10</td><td>8</td><td>6</td><td> 4</td><td> 5</td><td>8</td><td>10</td><td>1</td><td>malignant</td></tr>\n",
       "\t<tr><td>...</td><td>...</td><td>...</td><td>...</td><td>...</td><td>...</td><td>...</td><td>...</td><td>...</td><td>...</td></tr>\n",
       "\t<tr><td> 1</td><td> 1</td><td>3</td><td> 1</td><td> 1</td><td> 1</td><td> 2</td><td> 1</td><td>1</td><td>begnin   </td></tr>\n",
       "\t<tr><td> 1</td><td> 2</td><td>1</td><td> 3</td><td> 2</td><td> 1</td><td> 2</td><td> 1</td><td>1</td><td>begnin   </td></tr>\n",
       "\t<tr><td> 3</td><td> 3</td><td>2</td><td> 2</td><td> 3</td><td> 1</td><td> 1</td><td> 2</td><td>3</td><td>begnin   </td></tr>\n",
       "\t<tr><td> 4</td><td> 5</td><td>5</td><td> 8</td><td> 6</td><td>10</td><td>10</td><td> 7</td><td>1</td><td>malignant</td></tr>\n",
       "\t<tr><td> 8</td><td> 7</td><td>5</td><td>10</td><td> 7</td><td> 9</td><td> 5</td><td> 5</td><td>4</td><td>malignant</td></tr>\n",
       "\t<tr><td> 4</td><td> 3</td><td>3</td><td> 1</td><td> 2</td><td> 1</td><td> 3</td><td> 3</td><td>1</td><td>begnin   </td></tr>\n",
       "\t<tr><td> 3</td><td> 1</td><td>4</td><td> 1</td><td> 2</td><td> 4</td><td> 3</td><td> 1</td><td>1</td><td>begnin   </td></tr>\n",
       "\t<tr><td> 3</td><td> 1</td><td>1</td><td> 1</td><td> 2</td><td> 1</td><td> 2</td><td> 1</td><td>2</td><td>begnin   </td></tr>\n",
       "\t<tr><td> 3</td><td> 1</td><td>1</td><td> 1</td><td> 1</td><td> 1</td><td> 2</td><td> 1</td><td>1</td><td>begnin   </td></tr>\n",
       "\t<tr><td> 2</td><td> 1</td><td>1</td><td> 1</td><td> 2</td><td> 1</td><td> 3</td><td> 1</td><td>1</td><td>begnin   </td></tr>\n",
       "\t<tr><td> 4</td><td> 1</td><td>1</td><td> 1</td><td> 2</td><td> 2</td><td> 3</td><td> 2</td><td>1</td><td>begnin   </td></tr>\n",
       "\t<tr><td>10</td><td> 9</td><td>7</td><td> 3</td><td> 4</td><td> 2</td><td> 7</td><td> 7</td><td>1</td><td>malignant</td></tr>\n",
       "\t<tr><td> 2</td><td> 1</td><td>1</td><td> 1</td><td> 2</td><td> 1</td><td> 1</td><td> 1</td><td>5</td><td>begnin   </td></tr>\n",
       "\t<tr><td> 4</td><td> 1</td><td>1</td><td> 1</td><td> 2</td><td> 3</td><td> 2</td><td> 1</td><td>1</td><td>begnin   </td></tr>\n",
       "\t<tr><td> 3</td><td> 1</td><td>4</td><td> 1</td><td> 2</td><td> 1</td><td> 1</td><td> 1</td><td>1</td><td>begnin   </td></tr>\n",
       "\t<tr><td> 4</td><td>10</td><td>4</td><td> 7</td><td> 3</td><td>10</td><td> 9</td><td>10</td><td>1</td><td>malignant</td></tr>\n",
       "\t<tr><td> 3</td><td> 1</td><td>1</td><td> 1</td><td> 2</td><td> 1</td><td> 3</td><td> 1</td><td>1</td><td>begnin   </td></tr>\n",
       "\t<tr><td> 5</td><td> 4</td><td>4</td><td> 9</td><td> 2</td><td>10</td><td> 5</td><td> 6</td><td>1</td><td>malignant</td></tr>\n",
       "\t<tr><td> 1</td><td> 1</td><td>1</td><td> 1</td><td> 1</td><td> 4</td><td> 2</td><td> 1</td><td>1</td><td>begnin   </td></tr>\n",
       "\t<tr><td> 1</td><td> 1</td><td>1</td><td> 1</td><td> 2</td><td> 1</td><td> 1</td><td> 1</td><td>1</td><td>begnin   </td></tr>\n",
       "\t<tr><td> 3</td><td> 1</td><td>1</td><td> 1</td><td> 2</td><td> 1</td><td> 1</td><td> 1</td><td>1</td><td>begnin   </td></tr>\n",
       "\t<tr><td> 1</td><td> 1</td><td>1</td><td> 1</td><td> 2</td><td> 1</td><td> 1</td><td> 1</td><td>1</td><td>begnin   </td></tr>\n",
       "\t<tr><td> 3</td><td> 1</td><td>1</td><td> 1</td><td> 2</td><td> 1</td><td> 2</td><td> 1</td><td>1</td><td>begnin   </td></tr>\n",
       "\t<tr><td> 5</td><td> 1</td><td>2</td><td> 1</td><td> 2</td><td> 1</td><td> 1</td><td> 1</td><td>1</td><td>begnin   </td></tr>\n",
       "\t<tr><td> 4</td><td> 1</td><td>1</td><td> 1</td><td> 2</td><td> 1</td><td> 3</td><td> 1</td><td>1</td><td>begnin   </td></tr>\n",
       "\t<tr><td> 3</td><td> 1</td><td>1</td><td> 1</td><td> 2</td><td> 1</td><td> 2</td><td> 1</td><td>1</td><td>begnin   </td></tr>\n",
       "\t<tr><td> 4</td><td> 1</td><td>1</td><td> 1</td><td> 2</td><td> 1</td><td> 3</td><td> 1</td><td>1</td><td>begnin   </td></tr>\n",
       "\t<tr><td> 5</td><td> 6</td><td>5</td><td> 6</td><td>10</td><td> 1</td><td> 3</td><td> 1</td><td>1</td><td>malignant</td></tr>\n",
       "\t<tr><td>10</td><td> 3</td><td>5</td><td> 1</td><td>10</td><td> 5</td><td> 3</td><td>10</td><td>2</td><td>malignant</td></tr>\n",
       "\t<tr><td> 3</td><td> 1</td><td>1</td><td> 1</td><td> 2</td><td> 1</td><td> 2</td><td> 1</td><td>1</td><td>begnin   </td></tr>\n",
       "</tbody>\n",
       "</table>\n"
      ],
      "text/latex": [
       "A tibble: 699 × 10\n",
       "\\begin{tabular}{llllllllll}\n",
       " clump & ucellsize & ucellshape & mgadhesion & sepics & bnuclei & bchromatin & normnucl & mitoses & classe\\\\\n",
       " <dbl> & <dbl> & <dbl> & <dbl> & <dbl> & <dbl> & <dbl> & <dbl> & <dbl> & <chr>\\\\\n",
       "\\hline\n",
       "\t 10 &  6 & 6 & 2 &  4 & 10 & 9 &  7 & 1 & malignant\\\\\n",
       "\t  4 &  2 & 2 & 1 &  2 &  1 & 2 &  1 & 1 & begnin   \\\\\n",
       "\t  1 &  1 & 1 & 1 &  2 &  1 & 2 &  1 & 1 & begnin   \\\\\n",
       "\t  2 &  1 & 1 & 1 &  2 &  1 & 2 &  1 & 1 & begnin   \\\\\n",
       "\t  4 &  1 & 1 & 1 &  2 &  1 & 2 &  1 & 1 & begnin   \\\\\n",
       "\t  1 &  1 & 1 & 1 &  2 &  1 & 1 &  1 & 1 & begnin   \\\\\n",
       "\t  1 &  1 & 1 & 1 &  2 &  1 & 2 &  1 & 1 & begnin   \\\\\n",
       "\t  5 &  1 & 1 & 1 &  2 &  1 & 2 &  1 & 1 & begnin   \\\\\n",
       "\t  3 &  1 & 1 & 1 &  2 &  1 & 2 &  1 & 1 & begnin   \\\\\n",
       "\t  1 &  1 & 1 & 1 &  2 &  4 & 2 &  1 & 1 & begnin   \\\\\n",
       "\t  5 &  3 & 3 & 2 &  3 &  1 & 3 &  1 & 1 & begnin   \\\\\n",
       "\t  4 &  2 & 2 & 1 &  2 &  1 & 2 &  1 & 1 & begnin   \\\\\n",
       "\t  1 &  1 & 1 & 1 &  2 &  1 & 2 &  1 & 1 & begnin   \\\\\n",
       "\t  2 &  1 & 1 & 1 &  2 &  1 & 2 &  1 & 1 & begnin   \\\\\n",
       "\t  4 &  1 & 1 & 1 &  2 &  1 & 3 &  2 & 1 & begnin   \\\\\n",
       "\t  1 &  1 & 1 & 1 &  2 &  1 & 3 &  1 & 1 & begnin   \\\\\n",
       "\t  6 &  1 & 3 & 2 &  2 &  1 & 1 &  1 & 1 & begnin   \\\\\n",
       "\t  3 &  1 & 1 & 2 &  3 &  4 & 1 &  1 & 1 & begnin   \\\\\n",
       "\t  2 &  1 & 1 & 1 &  2 &  1 & 3 &  1 & 1 & begnin   \\\\\n",
       "\t  5 &  5 & 5 & 8 & 10 &  8 & 7 &  3 & 7 & malignant\\\\\n",
       "\t  1 &  1 & 1 & 1 &  2 &  1 & 3 &  1 & 1 & begnin   \\\\\n",
       "\t  1 &  1 & 1 & 1 &  2 &  1 & 2 &  1 & 2 & begnin   \\\\\n",
       "\t  1 &  1 & 1 & 1 &  1 &  1 & 1 &  1 & 1 & begnin   \\\\\n",
       "\t  9 &  8 & 8 & 9 &  6 &  3 & 4 &  1 & 1 & malignant\\\\\n",
       "\t  1 &  1 & 1 & 1 &  2 &  1 & 3 &  1 & 1 & begnin   \\\\\n",
       "\t  1 &  1 & 3 & 1 &  2 &  1 & 1 &  1 & 1 & begnin   \\\\\n",
       "\t  8 &  7 & 8 & 5 & 10 & 10 & 7 &  2 & 1 & malignant\\\\\n",
       "\t  5 &  2 & 2 & 2 &  2 &  1 & 1 &  1 & 2 & begnin   \\\\\n",
       "\t  1 &  1 & 1 & 1 &  2 &  1 & 1 &  1 & 1 & begnin   \\\\\n",
       "\t 10 & 10 & 8 & 6 &  4 &  5 & 8 & 10 & 1 & malignant\\\\\n",
       "\t ... & ... & ... & ... & ... & ... & ... & ... & ... & ...\\\\\n",
       "\t  1 &  1 & 3 &  1 &  1 &  1 &  2 &  1 & 1 & begnin   \\\\\n",
       "\t  1 &  2 & 1 &  3 &  2 &  1 &  2 &  1 & 1 & begnin   \\\\\n",
       "\t  3 &  3 & 2 &  2 &  3 &  1 &  1 &  2 & 3 & begnin   \\\\\n",
       "\t  4 &  5 & 5 &  8 &  6 & 10 & 10 &  7 & 1 & malignant\\\\\n",
       "\t  8 &  7 & 5 & 10 &  7 &  9 &  5 &  5 & 4 & malignant\\\\\n",
       "\t  4 &  3 & 3 &  1 &  2 &  1 &  3 &  3 & 1 & begnin   \\\\\n",
       "\t  3 &  1 & 4 &  1 &  2 &  4 &  3 &  1 & 1 & begnin   \\\\\n",
       "\t  3 &  1 & 1 &  1 &  2 &  1 &  2 &  1 & 2 & begnin   \\\\\n",
       "\t  3 &  1 & 1 &  1 &  1 &  1 &  2 &  1 & 1 & begnin   \\\\\n",
       "\t  2 &  1 & 1 &  1 &  2 &  1 &  3 &  1 & 1 & begnin   \\\\\n",
       "\t  4 &  1 & 1 &  1 &  2 &  2 &  3 &  2 & 1 & begnin   \\\\\n",
       "\t 10 &  9 & 7 &  3 &  4 &  2 &  7 &  7 & 1 & malignant\\\\\n",
       "\t  2 &  1 & 1 &  1 &  2 &  1 &  1 &  1 & 5 & begnin   \\\\\n",
       "\t  4 &  1 & 1 &  1 &  2 &  3 &  2 &  1 & 1 & begnin   \\\\\n",
       "\t  3 &  1 & 4 &  1 &  2 &  1 &  1 &  1 & 1 & begnin   \\\\\n",
       "\t  4 & 10 & 4 &  7 &  3 & 10 &  9 & 10 & 1 & malignant\\\\\n",
       "\t  3 &  1 & 1 &  1 &  2 &  1 &  3 &  1 & 1 & begnin   \\\\\n",
       "\t  5 &  4 & 4 &  9 &  2 & 10 &  5 &  6 & 1 & malignant\\\\\n",
       "\t  1 &  1 & 1 &  1 &  1 &  4 &  2 &  1 & 1 & begnin   \\\\\n",
       "\t  1 &  1 & 1 &  1 &  2 &  1 &  1 &  1 & 1 & begnin   \\\\\n",
       "\t  3 &  1 & 1 &  1 &  2 &  1 &  1 &  1 & 1 & begnin   \\\\\n",
       "\t  1 &  1 & 1 &  1 &  2 &  1 &  1 &  1 & 1 & begnin   \\\\\n",
       "\t  3 &  1 & 1 &  1 &  2 &  1 &  2 &  1 & 1 & begnin   \\\\\n",
       "\t  5 &  1 & 2 &  1 &  2 &  1 &  1 &  1 & 1 & begnin   \\\\\n",
       "\t  4 &  1 & 1 &  1 &  2 &  1 &  3 &  1 & 1 & begnin   \\\\\n",
       "\t  3 &  1 & 1 &  1 &  2 &  1 &  2 &  1 & 1 & begnin   \\\\\n",
       "\t  4 &  1 & 1 &  1 &  2 &  1 &  3 &  1 & 1 & begnin   \\\\\n",
       "\t  5 &  6 & 5 &  6 & 10 &  1 &  3 &  1 & 1 & malignant\\\\\n",
       "\t 10 &  3 & 5 &  1 & 10 &  5 &  3 & 10 & 2 & malignant\\\\\n",
       "\t  3 &  1 & 1 &  1 &  2 &  1 &  2 &  1 & 1 & begnin   \\\\\n",
       "\\end{tabular}\n"
      ],
      "text/markdown": [
       "\n",
       "A tibble: 699 × 10\n",
       "\n",
       "| clump &lt;dbl&gt; | ucellsize &lt;dbl&gt; | ucellshape &lt;dbl&gt; | mgadhesion &lt;dbl&gt; | sepics &lt;dbl&gt; | bnuclei &lt;dbl&gt; | bchromatin &lt;dbl&gt; | normnucl &lt;dbl&gt; | mitoses &lt;dbl&gt; | classe &lt;chr&gt; |\n",
       "|---|---|---|---|---|---|---|---|---|---|\n",
       "| 10 |  6 | 6 | 2 |  4 | 10 | 9 |  7 | 1 | malignant |\n",
       "|  4 |  2 | 2 | 1 |  2 |  1 | 2 |  1 | 1 | begnin    |\n",
       "|  1 |  1 | 1 | 1 |  2 |  1 | 2 |  1 | 1 | begnin    |\n",
       "|  2 |  1 | 1 | 1 |  2 |  1 | 2 |  1 | 1 | begnin    |\n",
       "|  4 |  1 | 1 | 1 |  2 |  1 | 2 |  1 | 1 | begnin    |\n",
       "|  1 |  1 | 1 | 1 |  2 |  1 | 1 |  1 | 1 | begnin    |\n",
       "|  1 |  1 | 1 | 1 |  2 |  1 | 2 |  1 | 1 | begnin    |\n",
       "|  5 |  1 | 1 | 1 |  2 |  1 | 2 |  1 | 1 | begnin    |\n",
       "|  3 |  1 | 1 | 1 |  2 |  1 | 2 |  1 | 1 | begnin    |\n",
       "|  1 |  1 | 1 | 1 |  2 |  4 | 2 |  1 | 1 | begnin    |\n",
       "|  5 |  3 | 3 | 2 |  3 |  1 | 3 |  1 | 1 | begnin    |\n",
       "|  4 |  2 | 2 | 1 |  2 |  1 | 2 |  1 | 1 | begnin    |\n",
       "|  1 |  1 | 1 | 1 |  2 |  1 | 2 |  1 | 1 | begnin    |\n",
       "|  2 |  1 | 1 | 1 |  2 |  1 | 2 |  1 | 1 | begnin    |\n",
       "|  4 |  1 | 1 | 1 |  2 |  1 | 3 |  2 | 1 | begnin    |\n",
       "|  1 |  1 | 1 | 1 |  2 |  1 | 3 |  1 | 1 | begnin    |\n",
       "|  6 |  1 | 3 | 2 |  2 |  1 | 1 |  1 | 1 | begnin    |\n",
       "|  3 |  1 | 1 | 2 |  3 |  4 | 1 |  1 | 1 | begnin    |\n",
       "|  2 |  1 | 1 | 1 |  2 |  1 | 3 |  1 | 1 | begnin    |\n",
       "|  5 |  5 | 5 | 8 | 10 |  8 | 7 |  3 | 7 | malignant |\n",
       "|  1 |  1 | 1 | 1 |  2 |  1 | 3 |  1 | 1 | begnin    |\n",
       "|  1 |  1 | 1 | 1 |  2 |  1 | 2 |  1 | 2 | begnin    |\n",
       "|  1 |  1 | 1 | 1 |  1 |  1 | 1 |  1 | 1 | begnin    |\n",
       "|  9 |  8 | 8 | 9 |  6 |  3 | 4 |  1 | 1 | malignant |\n",
       "|  1 |  1 | 1 | 1 |  2 |  1 | 3 |  1 | 1 | begnin    |\n",
       "|  1 |  1 | 3 | 1 |  2 |  1 | 1 |  1 | 1 | begnin    |\n",
       "|  8 |  7 | 8 | 5 | 10 | 10 | 7 |  2 | 1 | malignant |\n",
       "|  5 |  2 | 2 | 2 |  2 |  1 | 1 |  1 | 2 | begnin    |\n",
       "|  1 |  1 | 1 | 1 |  2 |  1 | 1 |  1 | 1 | begnin    |\n",
       "| 10 | 10 | 8 | 6 |  4 |  5 | 8 | 10 | 1 | malignant |\n",
       "| ... | ... | ... | ... | ... | ... | ... | ... | ... | ... |\n",
       "|  1 |  1 | 3 |  1 |  1 |  1 |  2 |  1 | 1 | begnin    |\n",
       "|  1 |  2 | 1 |  3 |  2 |  1 |  2 |  1 | 1 | begnin    |\n",
       "|  3 |  3 | 2 |  2 |  3 |  1 |  1 |  2 | 3 | begnin    |\n",
       "|  4 |  5 | 5 |  8 |  6 | 10 | 10 |  7 | 1 | malignant |\n",
       "|  8 |  7 | 5 | 10 |  7 |  9 |  5 |  5 | 4 | malignant |\n",
       "|  4 |  3 | 3 |  1 |  2 |  1 |  3 |  3 | 1 | begnin    |\n",
       "|  3 |  1 | 4 |  1 |  2 |  4 |  3 |  1 | 1 | begnin    |\n",
       "|  3 |  1 | 1 |  1 |  2 |  1 |  2 |  1 | 2 | begnin    |\n",
       "|  3 |  1 | 1 |  1 |  1 |  1 |  2 |  1 | 1 | begnin    |\n",
       "|  2 |  1 | 1 |  1 |  2 |  1 |  3 |  1 | 1 | begnin    |\n",
       "|  4 |  1 | 1 |  1 |  2 |  2 |  3 |  2 | 1 | begnin    |\n",
       "| 10 |  9 | 7 |  3 |  4 |  2 |  7 |  7 | 1 | malignant |\n",
       "|  2 |  1 | 1 |  1 |  2 |  1 |  1 |  1 | 5 | begnin    |\n",
       "|  4 |  1 | 1 |  1 |  2 |  3 |  2 |  1 | 1 | begnin    |\n",
       "|  3 |  1 | 4 |  1 |  2 |  1 |  1 |  1 | 1 | begnin    |\n",
       "|  4 | 10 | 4 |  7 |  3 | 10 |  9 | 10 | 1 | malignant |\n",
       "|  3 |  1 | 1 |  1 |  2 |  1 |  3 |  1 | 1 | begnin    |\n",
       "|  5 |  4 | 4 |  9 |  2 | 10 |  5 |  6 | 1 | malignant |\n",
       "|  1 |  1 | 1 |  1 |  1 |  4 |  2 |  1 | 1 | begnin    |\n",
       "|  1 |  1 | 1 |  1 |  2 |  1 |  1 |  1 | 1 | begnin    |\n",
       "|  3 |  1 | 1 |  1 |  2 |  1 |  1 |  1 | 1 | begnin    |\n",
       "|  1 |  1 | 1 |  1 |  2 |  1 |  1 |  1 | 1 | begnin    |\n",
       "|  3 |  1 | 1 |  1 |  2 |  1 |  2 |  1 | 1 | begnin    |\n",
       "|  5 |  1 | 2 |  1 |  2 |  1 |  1 |  1 | 1 | begnin    |\n",
       "|  4 |  1 | 1 |  1 |  2 |  1 |  3 |  1 | 1 | begnin    |\n",
       "|  3 |  1 | 1 |  1 |  2 |  1 |  2 |  1 | 1 | begnin    |\n",
       "|  4 |  1 | 1 |  1 |  2 |  1 |  3 |  1 | 1 | begnin    |\n",
       "|  5 |  6 | 5 |  6 | 10 |  1 |  3 |  1 | 1 | malignant |\n",
       "| 10 |  3 | 5 |  1 | 10 |  5 |  3 | 10 | 2 | malignant |\n",
       "|  3 |  1 | 1 |  1 |  2 |  1 |  2 |  1 | 1 | begnin    |\n",
       "\n"
      ],
      "text/plain": [
       "    clump ucellsize ucellshape mgadhesion sepics bnuclei bchromatin normnucl\n",
       "1   10     6        6          2           4     10      9           7      \n",
       "2    4     2        2          1           2      1      2           1      \n",
       "3    1     1        1          1           2      1      2           1      \n",
       "4    2     1        1          1           2      1      2           1      \n",
       "5    4     1        1          1           2      1      2           1      \n",
       "6    1     1        1          1           2      1      1           1      \n",
       "7    1     1        1          1           2      1      2           1      \n",
       "8    5     1        1          1           2      1      2           1      \n",
       "9    3     1        1          1           2      1      2           1      \n",
       "10   1     1        1          1           2      4      2           1      \n",
       "11   5     3        3          2           3      1      3           1      \n",
       "12   4     2        2          1           2      1      2           1      \n",
       "13   1     1        1          1           2      1      2           1      \n",
       "14   2     1        1          1           2      1      2           1      \n",
       "15   4     1        1          1           2      1      3           2      \n",
       "16   1     1        1          1           2      1      3           1      \n",
       "17   6     1        3          2           2      1      1           1      \n",
       "18   3     1        1          2           3      4      1           1      \n",
       "19   2     1        1          1           2      1      3           1      \n",
       "20   5     5        5          8          10      8      7           3      \n",
       "21   1     1        1          1           2      1      3           1      \n",
       "22   1     1        1          1           2      1      2           1      \n",
       "23   1     1        1          1           1      1      1           1      \n",
       "24   9     8        8          9           6      3      4           1      \n",
       "25   1     1        1          1           2      1      3           1      \n",
       "26   1     1        3          1           2      1      1           1      \n",
       "27   8     7        8          5          10     10      7           2      \n",
       "28   5     2        2          2           2      1      1           1      \n",
       "29   1     1        1          1           2      1      1           1      \n",
       "30  10    10        8          6           4      5      8          10      \n",
       "... ...   ...       ...        ...        ...    ...     ...        ...     \n",
       "670  1     1        3           1          1      1       2          1      \n",
       "671  1     2        1           3          2      1       2          1      \n",
       "672  3     3        2           2          3      1       1          2      \n",
       "673  4     5        5           8          6     10      10          7      \n",
       "674  8     7        5          10          7      9       5          5      \n",
       "675  4     3        3           1          2      1       3          3      \n",
       "676  3     1        4           1          2      4       3          1      \n",
       "677  3     1        1           1          2      1       2          1      \n",
       "678  3     1        1           1          1      1       2          1      \n",
       "679  2     1        1           1          2      1       3          1      \n",
       "680  4     1        1           1          2      2       3          2      \n",
       "681 10     9        7           3          4      2       7          7      \n",
       "682  2     1        1           1          2      1       1          1      \n",
       "683  4     1        1           1          2      3       2          1      \n",
       "684  3     1        4           1          2      1       1          1      \n",
       "685  4    10        4           7          3     10       9         10      \n",
       "686  3     1        1           1          2      1       3          1      \n",
       "687  5     4        4           9          2     10       5          6      \n",
       "688  1     1        1           1          1      4       2          1      \n",
       "689  1     1        1           1          2      1       1          1      \n",
       "690  3     1        1           1          2      1       1          1      \n",
       "691  1     1        1           1          2      1       1          1      \n",
       "692  3     1        1           1          2      1       2          1      \n",
       "693  5     1        2           1          2      1       1          1      \n",
       "694  4     1        1           1          2      1       3          1      \n",
       "695  3     1        1           1          2      1       2          1      \n",
       "696  4     1        1           1          2      1       3          1      \n",
       "697  5     6        5           6         10      1       3          1      \n",
       "698 10     3        5           1         10      5       3         10      \n",
       "699  3     1        1           1          2      1       2          1      \n",
       "    mitoses classe   \n",
       "1   1       malignant\n",
       "2   1       begnin   \n",
       "3   1       begnin   \n",
       "4   1       begnin   \n",
       "5   1       begnin   \n",
       "6   1       begnin   \n",
       "7   1       begnin   \n",
       "8   1       begnin   \n",
       "9   1       begnin   \n",
       "10  1       begnin   \n",
       "11  1       begnin   \n",
       "12  1       begnin   \n",
       "13  1       begnin   \n",
       "14  1       begnin   \n",
       "15  1       begnin   \n",
       "16  1       begnin   \n",
       "17  1       begnin   \n",
       "18  1       begnin   \n",
       "19  1       begnin   \n",
       "20  7       malignant\n",
       "21  1       begnin   \n",
       "22  2       begnin   \n",
       "23  1       begnin   \n",
       "24  1       malignant\n",
       "25  1       begnin   \n",
       "26  1       begnin   \n",
       "27  1       malignant\n",
       "28  2       begnin   \n",
       "29  1       begnin   \n",
       "30  1       malignant\n",
       "... ...     ...      \n",
       "670 1       begnin   \n",
       "671 1       begnin   \n",
       "672 3       begnin   \n",
       "673 1       malignant\n",
       "674 4       malignant\n",
       "675 1       begnin   \n",
       "676 1       begnin   \n",
       "677 2       begnin   \n",
       "678 1       begnin   \n",
       "679 1       begnin   \n",
       "680 1       begnin   \n",
       "681 1       malignant\n",
       "682 5       begnin   \n",
       "683 1       begnin   \n",
       "684 1       begnin   \n",
       "685 1       malignant\n",
       "686 1       begnin   \n",
       "687 1       malignant\n",
       "688 1       begnin   \n",
       "689 1       begnin   \n",
       "690 1       begnin   \n",
       "691 1       begnin   \n",
       "692 1       begnin   \n",
       "693 1       begnin   \n",
       "694 1       begnin   \n",
       "695 1       begnin   \n",
       "696 1       begnin   \n",
       "697 1       malignant\n",
       "698 2       malignant\n",
       "699 1       begnin   "
      ]
     },
     "metadata": {},
     "output_type": "display_data"
    }
   ],
   "source": [
    "# test avec data_breast_cancer\n",
    "data <- read_excel(\"breast.xlsx\")\n",
    "data"
   ]
  },
  {
   "cell_type": "code",
   "execution_count": 5,
   "metadata": {},
   "outputs": [],
   "source": [
    "get_x_y <- function(formula, data) {\n",
    "    data_frame <- model.frame(formula, data)\n",
    "\n",
    "    # y <- as.factor(data_frame[, 1])\n",
    "    # levels(y) <- c(1, 0)\n",
    "    # y <- matrix(as.integer(y))\n",
    "\n",
    "    y <- matrix(ifelse(data_frame[, 1] == \"malignant\", 1, 0))\n",
    "\n",
    "\n",
    "    x <- data_frame[, -1]\n",
    "    x <- as.matrix(data.frame(rep(1, length(y)), x))\n",
    "\n",
    "    return(list(target = y, features = x))\n",
    "}"
   ]
  },
  {
   "cell_type": "markdown",
   "metadata": {},
   "source": [
    "## Fonction sigmoide\n",
    "\n",
    "$ \\Large h(x) =  \\frac{1}{1 + e^{-x} }  $  \n",
    "\n",
    "![equation](https://latex.codecogs.com/png.latex?%5Clarge%20h%28x%29%20%3D%20%5Cfrac%7B1%7D%7B1%20&plus;%20e%5E%7B-x%7D%20%7D)"
   ]
  },
  {
   "cell_type": "code",
   "execution_count": 6,
   "metadata": {},
   "outputs": [],
   "source": [
    "sigmoid <- function(x) {\n",
    "    return(1 / (1 + exp(-x)))\n",
    "}"
   ]
  },
  {
   "cell_type": "markdown",
   "metadata": {},
   "source": [
    "## Modèle\n",
    "\n",
    "$ \\Large F(X) = X.\\theta  $  \n",
    "![equation](https://latex.codecogs.com/png.latex?%5Clarge%20F%28X%29%20%3D%20X.%5Ctheta)"
   ]
  },
  {
   "cell_type": "code",
   "execution_count": 7,
   "metadata": {},
   "outputs": [],
   "source": [
    "x_dot_theta <- function(x, theta) {\n",
    "    return(x %*% theta)\n",
    "}"
   ]
  },
  {
   "cell_type": "markdown",
   "metadata": {},
   "source": [
    "## Fonction de la régression logistique\n",
    "\n",
    "$ \\Large h_ \\theta (x) =  \\frac{1}{1 + e^{- X.\\theta} }  $  \n",
    "![equation](https://latex.codecogs.com/png.latex?%5Clarge%20h_%20%5Ctheta%20%28x%29%20%3D%20%5Cfrac%7B1%7D%7B1%20&plus;%20e%5E%7B-%20X.%5Ctheta%7D%20%7D)"
   ]
  },
  {
   "cell_type": "code",
   "execution_count": 8,
   "metadata": {},
   "outputs": [],
   "source": [
    "probability <- function(x, theta) {\n",
    "    return(sigmoid(x_dot_theta(x, theta)))\n",
    "}"
   ]
  },
  {
   "cell_type": "markdown",
   "metadata": {},
   "source": [
    "## Fonction de cout"
   ]
  },
  {
   "cell_type": "markdown",
   "metadata": {},
   "source": [
    "$ \\Large J(\\theta) = -\\frac{1}{m} \\sum y \\times log(\\sigma(X.\\theta)) + (1-y) \\times (1-\\sigma(X.\\theta)) $  \n",
    "![equation](https://latex.codecogs.com/png.latex?%5Clarge%20J%28%5Ctheta%29%20%3D%20-%5Cfrac%7B1%7D%7Bm%7D%20%5Csum%20y%20%5Ctimes%20log%28%5Csigma%28X.%5Ctheta%29%29%20&plus;%20%281-y%29%20%5Ctimes%20%281-%5Csigma%28X.%5Ctheta%29%29)"
   ]
  },
  {
   "cell_type": "code",
   "execution_count": 9,
   "metadata": {},
   "outputs": [],
   "source": [
    "cost_function <- function(x, y, theta) {\n",
    "    m <- nrow(y)\n",
    "    g <- probability(x, theta)\n",
    "    j <- (1 / m) * sum((-y * log(g)) - ((1 - y) * log(1 - g)))\n",
    "    return(j)\n",
    "}"
   ]
  },
  {
   "cell_type": "markdown",
   "metadata": {},
   "source": [
    "## Calcul du gradient\n",
    "\n",
    "$\\Large \\frac{\\partial J(\\theta) }{\\partial \\theta} = \\frac{1}{m} X^T.(\\sigma(X.\\theta)-y)$  \n",
    "![equation](https://latex.codecogs.com/gif.latex?%5Cfrac%7B%5Cpartial%20J%28%5Ctheta%29%20%7D%7B%5Cpartial%20%5Ctheta%7D%20%3D%20%5Cfrac%7B1%7D%7Bm%7D%20X%5ET.%28%5Csigma%28X.%5Ctheta%29-y%29)\n",
    "\n"
   ]
  },
  {
   "cell_type": "code",
   "execution_count": 10,
   "metadata": {},
   "outputs": [],
   "source": [
    "# Gradient : calcul des dérivées partielles de chacun des paramètres de theta\n",
    "gradient <- function(x, y, theta) {\n",
    "    m <- nrow(y)\n",
    "    return((1 / m) * x_dot_theta(t(x), probability(x, theta) - y))\n",
    "}"
   ]
  },
  {
   "cell_type": "markdown",
   "metadata": {},
   "source": [
    "## Descente de gradient\n",
    "\n",
    "$\\Large \\theta = \\theta - \\alpha \\frac{\\partial J(\\theta) }{\\partial \\theta}$  \n",
    "![equation](https://latex.codecogs.com/png.latex?%5Clarge%20%5Ctheta%20%3D%20%5Ctheta%20-%20%5Calpha%20%5Cfrac%7B%5Cpartial%20J%28%5Ctheta%29%20%7D%7B%5Cpartial%20%5Ctheta%7D)\n",
    "\n",
    "\n"
   ]
  },
  {
   "cell_type": "code",
   "execution_count": 11,
   "metadata": {},
   "outputs": [],
   "source": [
    "batch_gradient_descent <- function(x, y, theta, learning_rate, n_iter) {\n",
    "    cost_history <- c(cost_function(x, y, theta))\n",
    "    m <- nrow(y)\n",
    "    \n",
    "    for (i in 1:n_iter) {\n",
    "        # Shuffle data\n",
    "        random_index <- sample(x = m, size = m)\n",
    "        # Update theta\n",
    "        theta <- theta - learning_rate * gradient(x[random_index, ], as.matrix(y[random_index, ]), theta)\n",
    "        cost_history <- c(cost_history, cost_function(x, y, theta))\n",
    "    }\n",
    "    return(list(theta=theta, cost_history=cost_history))\n",
    "}"
   ]
  },
  {
   "cell_type": "code",
   "execution_count": 12,
   "metadata": {},
   "outputs": [],
   "source": [
    "stochastic_gradient_descent <- function(x, y, theta, learning_rate, n_iter) {\n",
    "    cost_history <- c(cost_function(x, y, theta))\n",
    "    m <- nrow(y)\n",
    "    \n",
    "    random_index <- sample(x = m, size = m)\n",
    "    for (i in 1:n_iter) {\n",
    "        # Shuffle data\n",
    "        random_index <- sample(x = m, size = m)\n",
    "        for (j in 1:m) {\n",
    "            # Update theta\n",
    "            y_i <- as.matrix(y[random_index[j], ])\n",
    "            x_i <- t(as.matrix(x[random_index[j], ]))\n",
    "            theta <- theta - learning_rate * gradient(x_i, y_i, theta)\n",
    "            cost_history <- c(cost_history, cost_function(x, y, theta))\n",
    "        }\n",
    "    }\n",
    "    return(list(theta = theta, cost_history = cost_history))\n",
    "}"
   ]
  },
  {
   "cell_type": "code",
   "execution_count": 13,
   "metadata": {},
   "outputs": [],
   "source": [
    "mini_batch_gradient_descent2 <- function(x, y, theta, learning_rate, n_iter, batch_size) {\n",
    "    cost_history <- c(cost_function(x, y, theta))\n",
    "    m <- nrow(y)\n",
    "    \n",
    "    for (i in 1:n_iter) {\n",
    "        # Shuffle data\n",
    "        random_index <- sample(x = m, size = m)\n",
    "        x <- as.matrix(x[random_index, ])\n",
    "        y <- as.matrix(y[random_index, ])\n",
    "        x_i <- c()\n",
    "        y_i <- c()\n",
    "        for (j in seq(1, m, batch_size)) {\n",
    "\n",
    "            y_i <- rbind(y_i, y[j:(j + batch_size), ]) # erreur\n",
    "            #print(y_i)\n",
    "            x_i <- rbind(x_i, x[j:(j + batch_size), ])\n",
    "            print(x_i)\n",
    "            theta <- theta - learning_rate * gradient(x_i, y_i, theta)\n",
    "            cost_history <- c(cost_history, cost_function(x, y, theta))\n",
    "\n",
    "        }\n",
    "        print(y_i)\n",
    "        print(x_i)\n",
    "    }\n",
    "    return(list(theta = theta, cost_history = cost_history))\n",
    "}"
   ]
  },
  {
   "cell_type": "code",
   "execution_count": 26,
   "metadata": {},
   "outputs": [],
   "source": [
    "mini_batch_gradient_descent <- function(x, y, theta, learning_rate, n_iter, batch_size) {\n",
    "    \n",
    "    cost_history <- c(cost_function(x, y, theta))\n",
    "    m <- nrow(y)\n",
    "    \n",
    "    for (i in 1:n_iter) {\n",
    "        # Shuffle data\n",
    "        random_index <- sample(x = m, size = m)\n",
    "        x <- as.matrix(x[random_index, ])\n",
    "        y <- as.matrix(y[random_index, ])\n",
    "        x_i <- c()\n",
    "        y_i <- c()\n",
    "\n",
    "        index <- seq(1, m, batch_size - 1)\n",
    "\n",
    "        for (j in 1:trunc(m / batch_size)) {\n",
    "            y_i <- as.matrix(y[index[[j]]:index[[j + 1]], ])\n",
    "            x_i <- as.matrix(x[index[[j]]:index[[j + 1]], ])\n",
    "            theta <- theta - learning_rate * gradient (x_i, y_i, theta)\n",
    "            cost_history <- c(cost_history, cost_function(x, y, theta))\n",
    "        }\n",
    "\n",
    "    }\n",
    "    return(list(theta = theta, cost_history = cost_history))\n",
    "}"
   ]
  },
  {
   "cell_type": "code",
   "execution_count": 15,
   "metadata": {},
   "outputs": [],
   "source": [
    "# Gradient descent\n",
    "fit <- function(formula, data, mode, batch_size, learning_rate, n_iter) {\n",
    "\n",
    "    x_y = get_x_y(formula, data)\n",
    "    x <- x_y$features\n",
    "    y <- x_y$target\n",
    "    \n",
    "    #Création de l'instance\n",
    "\n",
    "    initial_theta <- as.matrix(rnorm(n = dim(x)[2], mean = 0, sd = 1))\n",
    "    #inst$cost_history <- c(cost_function(inst$x, inst$y, inst$theta)) # nolint\n",
    "    \n",
    "\n",
    "    if (mode == \"batch\" || (mode == \"mini-batch\" && batch_size >= nrow(y))) {\n",
    "        gradient_descent <- batch_gradient_descent(x, y, initial_theta, learning_rate, n_iter) # nolint\n",
    "    }else if (mode == \"stochastic\" || (mode == \"mini-batch\" && batch_size == 1)) { # nolint\n",
    "        gradient_descent <- stochastic_gradient_descent(x, y, initial_theta, learning_rate, n_iter)# nolint\n",
    "    }else if (mode == \"mini-batch\") {\n",
    "        gradient_descent <- mini_batch_gradient_descent(x, y, initial_theta, learning_rate, n_iter, batch_size)# nolint\n",
    "    }else{\n",
    "        return(\"erreur\")\n",
    "    }\n",
    "\n",
    "    inst <- list()\n",
    "    inst$formula <- formula\n",
    "    inst$x <- x\n",
    "    inst$y <- y\n",
    "    inst$mode <- mode\n",
    "    inst$batch_size <- batch_size\n",
    "    inst$learning_rate <- learning_rate\n",
    "    inst$n_iter <- n_iter\n",
    "    inst$theta <- gradient_descent[[1]]\n",
    "    inst$cost_history <- gradient_descent[[2]]\n",
    "    return(inst)\n",
    "}"
   ]
  },
  {
   "cell_type": "code",
   "execution_count": 16,
   "metadata": {},
   "outputs": [],
   "source": [
    "predict <- function(x, theta, thresold = 0.5) {\n",
    "    predictions <- unlist(ifelse(probability(x, theta) > thresold, 1, 0))\n",
    "    return(predictions)\n",
    "}"
   ]
  },
  {
   "cell_type": "code",
   "execution_count": 17,
   "metadata": {},
   "outputs": [
    {
     "name": "stdout",
     "output_type": "stream",
     "text": [
      "                        [,1]\n",
      "rep.1..length.y.. -5.2218211\n",
      "clump              0.2957197\n",
      "ucellsize          1.3539945\n",
      "[1] 0.9370529\n"
     ]
    },
    {
     "data": {
      "image/png": "[encoded data removed]",
      "text/plain": [
       "plot without title"
      ]
     },
     "metadata": {
      "image/png": {
       "height": 420,
       "width": 420
      }
     },
     "output_type": "display_data"
    }
   ],
   "source": [
    "res1 <- fit(classe ~ clump + ucellsize, data, mode = \"stochastic\", batch_size = 32, learning_rate = 0.1, n_iter = 1)\n",
    "y_pred <- predict(res1$x, res1$theta)\n",
    "plot(seq(1, length(res1$cost_history)), res1$cost_history, type = \"l\")\n",
    "\n",
    "print(res1$theta)\n",
    "\n",
    "accuracy <- mean(y_pred == res1$y)\n",
    "print(accuracy)"
   ]
  },
  {
   "cell_type": "code",
   "execution_count": 18,
   "metadata": {},
   "outputs": [
    {
     "name": "stdout",
     "output_type": "stream",
     "text": [
      "                        [,1]\n",
      "rep.1..length.y.. -3.5780137\n",
      "clump              0.1871996\n",
      "ucellsize          0.7790021\n",
      "[1] 0.9399142\n"
     ]
    },
    {
     "data": {
      "image/png": "[encoded data removed]",
      "text/plain": [
       "plot without title"
      ]
     },
     "metadata": {
      "image/png": {
       "height": 420,
       "width": 420
      }
     },
     "output_type": "display_data"
    }
   ],
   "source": [
    "res2 <- fit(classe ~ clump + ucellsize, data, mode = \"batch\", batch_size = 32, learning_rate = 0.1, n_iter = 500)\n",
    "y_pred <- predict(res2$x, res2$theta)\n",
    "plot(seq(1, length(res2$cost_history)), res2$cost_history, type = \"l\")\n",
    "\n",
    "print(res2$theta)\n",
    "\n",
    "accuracy <- mean(y_pred == res2$y)\n",
    "print(accuracy)"
   ]
  },
  {
   "cell_type": "code",
   "execution_count": 28,
   "metadata": {},
   "outputs": [
    {
     "name": "stdout",
     "output_type": "stream",
     "text": [
      "                        [,1]\n",
      "rep.1..length.y.. -2.6412535\n",
      "clump              0.1253798\n",
      "ucellsize          0.7439384\n",
      "[1] 0.9370529\n"
     ]
    },
    {
     "data": {
      "image/png": "[encoded data removed]",
      "text/plain": [
       "plot without title"
      ]
     },
     "metadata": {
      "image/png": {
       "height": 420,
       "width": 420
      }
     },
     "output_type": "display_data"
    }
   ],
   "source": [
    "res3 <- fit(classe ~ clump + ucellsize, data, mode = \"mini-batch\", batch_size = 32, learning_rate = 0.1, n_iter = 10)\n",
    "y_pred <- predict(res3$x, res3$theta)\n",
    "plot(seq(1, length(res3$cost_history)), res3$cost_history, type = \"l\")\n",
    "\n",
    "print(res3$theta)\n",
    "\n",
    "accuracy <- mean(y_pred == res3$y)\n",
    "print(accuracy)"
   ]
  }
 ],
 "metadata": {
  "interpreter": {
   "hash": "cf9b4918671f1076c11ed1e14d4ba3c6655ac5d7825a7b359e5111bb528a1ccf"
  },
  "kernelspec": {
   "display_name": "R",
   "language": "R",
   "name": "ir"
  },
  "language_info": {
   "codemirror_mode": "r",
   "file_extension": ".r",
   "mimetype": "text/x-r-source",
   "name": "R",
   "pygments_lexer": "r",
   "version": "4.1.1"
  },
  "orig_nbformat": 4
 },
 "nbformat": 4,
 "nbformat_minor": 2
}
