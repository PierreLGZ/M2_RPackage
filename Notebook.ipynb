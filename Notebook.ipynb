{
 "cells": [
  {
   "cell_type": "markdown",
   "metadata": {},
   "source": [
    "# Régression logistique avec descente de gradient et calcul parallèle"
   ]
  },
  {
   "cell_type": "code",
   "execution_count": 2,
   "metadata": {},
   "outputs": [
    {
     "name": "stderr",
     "output_type": "stream",
     "text": [
      "Loading required package: usethis\n",
      "\n"
     ]
    }
   ],
   "source": [
    "library(readxl)\n",
    "library(ggplot2)\n",
    "library(devtools)"
   ]
  },
  {
   "cell_type": "markdown",
   "metadata": {},
   "source": [
    "## Fonction sigmoide\n",
    "\n",
    "$ \\Large h(x) =  \\frac{1}{1 + e^{-x} }  $  \n",
    "\n",
    "![equation](https://latex.codecogs.com/png.latex?%5Clarge%20h%28x%29%20%3D%20%5Cfrac%7B1%7D%7B1%20&plus;%20e%5E%7B-x%7D%20%7D)"
   ]
  },
  {
   "cell_type": "code",
   "execution_count": 2,
   "metadata": {},
   "outputs": [],
   "source": [
    "sigmoid <- function(x) {\n",
    "    return(1 / (1 + exp(-x)))\n",
    "}"
   ]
  },
  {
   "cell_type": "markdown",
   "metadata": {},
   "source": [
    "## Modèle\n",
    "\n",
    "$ \\Large F(X) = X.\\theta  $  \n",
    "![equation](https://latex.codecogs.com/png.latex?%5Clarge%20F%28X%29%20%3D%20X.%5Ctheta)"
   ]
  },
  {
   "cell_type": "code",
   "execution_count": 4,
   "metadata": {},
   "outputs": [],
   "source": [
    "x_dot_theta <- function(x, theta) {\n",
    "    return(x %*% theta)\n",
    "}"
   ]
  },
  {
   "cell_type": "markdown",
   "metadata": {},
   "source": [
    "## Fonction de la régression logistique\n",
    "\n",
    "$ \\Large h_ \\theta (x) =  \\frac{1}{1 + e^{- X.\\theta} }  $  \n",
    "![equation](https://latex.codecogs.com/png.latex?%5Clarge%20h_%20%5Ctheta%20%28x%29%20%3D%20%5Cfrac%7B1%7D%7B1%20&plus;%20e%5E%7B-%20X.%5Ctheta%7D%20%7D)"
   ]
  },
  {
   "cell_type": "code",
   "execution_count": 9,
   "metadata": {},
   "outputs": [],
   "source": [
    "probability <- function(x, theta) {\n",
    "    return(sigmoid(x_dot_theta(x, theta)))\n",
    "}"
   ]
  },
  {
   "cell_type": "markdown",
   "metadata": {},
   "source": [
    "## Fonction de cout"
   ]
  },
  {
   "cell_type": "markdown",
   "metadata": {},
   "source": [
    "$ \\Large J(\\theta) = -\\frac{1}{m} \\sum y \\times log(\\sigma(X.\\theta)) + (1-y) \\times (1-\\sigma(X.\\theta)) $  \n",
    "![equation](https://latex.codecogs.com/png.latex?%5Clarge%20J%28%5Ctheta%29%20%3D%20-%5Cfrac%7B1%7D%7Bm%7D%20%5Csum%20y%20%5Ctimes%20log%28%5Csigma%28X.%5Ctheta%29%29%20&plus;%20%281-y%29%20%5Ctimes%20%281-%5Csigma%28X.%5Ctheta%29%29)"
   ]
  },
  {
   "cell_type": "code",
   "execution_count": 5,
   "metadata": {},
   "outputs": [],
   "source": [
    "cost_function <- function(x, y, theta) {\n",
    "    m <- nrow(y)\n",
    "    g <- probability(x, theta)\n",
    "    j <- (1 / m) * sum((-y * log(g)) - ((1 - y) * log(1 - g)))\n",
    "    return(j)\n",
    "}"
   ]
  },
  {
   "cell_type": "markdown",
   "metadata": {},
   "source": [
    "## Calcul du gradient\n",
    "\n",
    "$\\Large \\frac{\\partial J(\\theta) }{\\partial \\theta} = \\frac{1}{m} X^T.(\\sigma(X.\\theta)-y)$  \n",
    "![equation](https://latex.codecogs.com/gif.latex?%5Cfrac%7B%5Cpartial%20J%28%5Ctheta%29%20%7D%7B%5Cpartial%20%5Ctheta%7D%20%3D%20%5Cfrac%7B1%7D%7Bm%7D%20X%5ET.%28%5Csigma%28X.%5Ctheta%29-y%29)\n",
    "\n"
   ]
  },
  {
   "cell_type": "code",
   "execution_count": 11,
   "metadata": {},
   "outputs": [],
   "source": [
    "# Gradient : calcul des dérivées partielles de chacun des paramètres de theta\n",
    "gradient <- function(x, y, theta) {\n",
    "    m <- nrow(y)\n",
    "    return((1 / m) * x_dot_theta(t(x), probability(x, theta) - y))\n",
    "}"
   ]
  },
  {
   "cell_type": "markdown",
   "metadata": {},
   "source": [
    "## Descente de gradient\n",
    "\n",
    "$\\Large \\theta = \\theta - \\alpha \\frac{\\partial J(\\theta) }{\\partial \\theta}$  \n",
    "![equation](https://latex.codecogs.com/png.latex?%5Clarge%20%5Ctheta%20%3D%20%5Ctheta%20-%20%5Calpha%20%5Cfrac%7B%5Cpartial%20J%28%5Ctheta%29%20%7D%7B%5Cpartial%20%5Ctheta%7D)\n",
    "\n",
    "\n"
   ]
  },
  {
   "cell_type": "code",
   "execution_count": 12,
   "metadata": {},
   "outputs": [],
   "source": [
    "# Gradient descent\n",
    "gradient_descent <- function(x, y, theta, learning_rate, n_iter, mode) {\n",
    "    cost_history <- c(cost_function(x, y, theta))\n",
    "    for (i in 1:n_iter) {\n",
    "        # mise à jour des paramètres\n",
    "        theta <- theta - learning_rate * gradient(x, y, theta)\n",
    "        cost_history <- c(cost_history, cost_function(x, y, theta))\n",
    "    }\n",
    "    return(list(parameters = matrix(theta), cost_history = cost_history))\n",
    "}"
   ]
  },
  {
   "cell_type": "code",
   "execution_count": 13,
   "metadata": {},
   "outputs": [],
   "source": [
    "predict <- function(x, theta, thresold = 0.5) {\n",
    "    predictions = unlist(ifelse(probability(x, theta) > thresold, 1, 0))\n",
    "    return(predictions)\n",
    "}"
   ]
  },
  {
   "cell_type": "code",
   "execution_count": 14,
   "metadata": {},
   "outputs": [
    {
     "name": "stdout",
     "output_type": "stream",
     "text": [
      "             [,1]\n",
      " [1,] -1.49365044\n",
      " [2,] -0.17879735\n",
      " [3,]  0.58378441\n",
      " [4,]  0.32219169\n",
      " [5,]  0.13097581\n",
      " [6,] -0.59470350\n",
      " [7,]  0.42949614\n",
      " [8,] -0.31954707\n",
      " [9,]  0.27257137\n",
      "[10,] -0.09775771\n",
      "  [1] 1.1905461 1.0786287 1.0300052 0.9865823 0.9472116 0.9114240 0.8788336\n",
      "  [8] 0.8490929 0.8218895 0.7969440 0.7740083 0.7528630 0.7333149 0.7151943\n",
      " [15] 0.6983519 0.6826568 0.6679939 0.6542621 0.6413724 0.6292466 0.6178159\n",
      " [22] 0.6070194 0.5968037 0.5871214 0.5779305 0.5691940 0.5608785 0.5529544\n",
      " [29] 0.5453950 0.5381763 0.5312765 0.5246757 0.5183557 0.5122998 0.5064925\n",
      " [36] 0.5009196 0.4955678 0.4904246 0.4854786 0.4807188 0.4761350 0.4717178\n",
      " [43] 0.4674582 0.4633478 0.4593785 0.4555431 0.4518343 0.4482457 0.4447710\n",
      " [50] 0.4414044 0.4381404 0.4349737 0.4318994 0.4289131 0.4260103 0.4231870\n",
      " [57] 0.4204394 0.4177638 0.4151568 0.4126153 0.4101362 0.4077166 0.4053540\n",
      " [64] 0.4030457 0.4007893 0.3985827 0.3964236 0.3943101 0.3922403 0.3902123\n",
      " [71] 0.3882246 0.3862754 0.3843632 0.3824867 0.3806444 0.3788351 0.3770575\n",
      " [78] 0.3753104 0.3735929 0.3719037 0.3702419 0.3686065 0.3669967 0.3654116\n",
      " [85] 0.3638504 0.3623123 0.3607965 0.3593023 0.3578291 0.3563763 0.3549431\n",
      " [92] 0.3535290 0.3521335 0.3507560 0.3493960 0.3480530 0.3467265 0.3454161\n",
      " [99] 0.3441214 0.3428418 0.3415772 0.3403269 0.3390908 0.3378684 0.3366594\n",
      "[106] 0.3354635 0.3342804 0.3331097 0.3319512 0.3308046 0.3296697 0.3285462\n",
      "[113] 0.3274338 0.3263323 0.3252415 0.3241611 0.3230910 0.3220309 0.3209807\n",
      "[120] 0.3199401 0.3189090 0.3178872 0.3168745 0.3158708 0.3148759 0.3138896\n",
      "[127] 0.3129118 0.3119423 0.3109811 0.3100279 0.3090826 0.3081452 0.3072154\n",
      "[134] 0.3062932 0.3053785 0.3044711 0.3035709 0.3026778 0.3017917 0.3009126\n",
      "[141] 0.3000402 0.2991746 0.2983156 0.2974631 0.2966171 0.2957774 0.2949440\n",
      "[148] 0.2941168 0.2932957 0.2924806 0.2916715 0.2908683 0.2900709 0.2892792\n",
      "[155] 0.2884931 0.2877127 0.2869378 0.2861684 0.2854044 0.2846457 0.2838923\n",
      "[162] 0.2831441 0.2824010 0.2816631 0.2809302 0.2802023 0.2794794 0.2787613\n",
      "[169] 0.2780480 0.2773395 0.2766358 0.2759367 0.2752422 0.2745523 0.2738670\n",
      "[176] 0.2731861 0.2725097 0.2718377 0.2711700 0.2705066 0.2698475 0.2691926\n",
      "[183] 0.2685418 0.2678952 0.2672527 0.2666143 0.2659799 0.2653494 0.2647229\n",
      "[190] 0.2641003 0.2634815 0.2628666 0.2622554 0.2616481 0.2610444 0.2604444\n",
      "[197] 0.2598481 0.2592554 0.2586662 0.2580806 0.2574986\n",
      "[1] 0.9284692\n"
     ]
    },
    {
     "data": {
      "image/png": "[encoded data removed]",
      "text/plain": [
       "plot without title"
      ]
     },
     "metadata": {
      "image/png": {
       "height": 420,
       "width": 420
      }
     },
     "output_type": "display_data"
    }
   ],
   "source": [
    "# test avec data_breast_cancer\n",
    "data <- read_excel(\"breast.xlsx\")\n",
    "y <- data[, ncol(data)]\n",
    "y <- ifelse(y == \"malignant\", 1, 0)\n",
    "\n",
    "\n",
    "x <- data[, 1:(ncol(data) - 1)]\n",
    "\n",
    " # Ajout de la colonne de 1 pour faire le produit scalaire\n",
    "x <- as.matrix(data.frame(rep(1, length(y)), x))\n",
    "\n",
    "# Initialisation des paramètres theta\n",
    "initial_theta <- as.matrix(rnorm(n = dim(x)[2], mean = 0, sd = 1))\n",
    "\n",
    "# Entrainement\n",
    "res <- gradient_descent(x, y, initial_theta, learning_rate = 0.1, n_iter = 200)\n",
    "y_pred <- predict(x, res$parameters)\n",
    "\n",
    "print(res$parameters)\n",
    "print(res$cost_history)\n",
    "plot(seq(1, length(res$cost_history)), res$cost_history, type = \"l\")\n",
    "\n",
    "accuracy <- mean(y_pred == y)\n",
    "print(accuracy)"
   ]
  },
  {
   "cell_type": "code",
   "execution_count": null,
   "metadata": {},
   "outputs": [],
   "source": []
  },
  {
   "cell_type": "code",
   "execution_count": null,
   "metadata": {},
   "outputs": [],
   "source": []
  },
  {
   "cell_type": "code",
   "execution_count": null,
   "metadata": {},
   "outputs": [],
   "source": []
  }
 ],
 "metadata": {
  "kernelspec": {
   "display_name": "R",
   "language": "R",
   "name": "ir"
  },
  "language_info": {
   "codemirror_mode": "r",
   "file_extension": ".r",
   "mimetype": "text/x-r-source",
   "name": "R",
   "pygments_lexer": "r",
   "version": "4.1.1"
  },
  "orig_nbformat": 4
 },
 "nbformat": 4,
 "nbformat_minor": 2
}
