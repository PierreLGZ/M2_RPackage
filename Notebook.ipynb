{
 "cells": [
  {
   "cell_type": "markdown",
   "metadata": {},
   "source": [
    "# Régression logistique avec descente de gradient et calcul parallèle"
   ]
  },
  {
   "cell_type": "code",
   "execution_count": 48,
   "metadata": {},
   "outputs": [],
   "source": [
    "library(readxl)\n",
    "library(ggplot2)\n",
    "library(devtools)\n",
    "library(formula.tools)\n",
    "library(parallel)"
   ]
  },
  {
   "cell_type": "code",
   "execution_count": 26,
   "metadata": {},
   "outputs": [],
   "source": [
    "# test avec data_breast_cancer\n",
    "data <- read_excel(\"breast.xlsx\")"
   ]
  },
  {
   "cell_type": "code",
   "execution_count": 27,
   "metadata": {},
   "outputs": [
    {
     "name": "stdout",
     "output_type": "stream",
     "text": [
      "tibble [699 x 10] (S3: tbl_df/tbl/data.frame)\n",
      " $ clump     : num [1:699] 10 4 1 2 4 1 1 5 3 1 ...\n",
      " $ ucellsize : num [1:699] 6 2 1 1 1 1 1 1 1 1 ...\n",
      " $ ucellshape: num [1:699] 6 2 1 1 1 1 1 1 1 1 ...\n",
      " $ mgadhesion: num [1:699] 2 1 1 1 1 1 1 1 1 1 ...\n",
      " $ sepics    : num [1:699] 4 2 2 2 2 2 2 2 2 2 ...\n",
      " $ bnuclei   : num [1:699] 10 1 1 1 1 1 1 1 1 4 ...\n",
      " $ bchromatin: num [1:699] 9 2 2 2 2 1 2 2 2 2 ...\n",
      " $ normnucl  : num [1:699] 7 1 1 1 1 1 1 1 1 1 ...\n",
      " $ mitoses   : num [1:699] 1 1 1 1 1 1 1 1 1 1 ...\n",
      " $ classe    : chr [1:699] \"malignant\" \"begnin\" \"begnin\" \"begnin\" ...\n"
     ]
    }
   ],
   "source": [
    "str(data)"
   ]
  },
  {
   "cell_type": "code",
   "execution_count": 28,
   "metadata": {},
   "outputs": [],
   "source": [
    "# Conversion de la variable en 0/1 à intégrer dans une fonction ?\n",
    "\n",
    "data$classe <- as.factor(data$classe)\n",
    "levels(data$classe) <- c(0, 1)\n",
    "data$classe <- as.numeric(levels(data$classe))[data$classe]\n",
    "# y <- matrix(ifelse(data_frame[, 1] == \"malignant\", 1, 0))"
   ]
  },
  {
   "cell_type": "code",
   "execution_count": 29,
   "metadata": {},
   "outputs": [
    {
     "data": {
      "text/html": [
       "<table class=\"dataframe\">\n",
       "<caption>A tibble: 699 × 10</caption>\n",
       "<thead>\n",
       "\t<tr><th scope=col>clump</th><th scope=col>ucellsize</th><th scope=col>ucellshape</th><th scope=col>mgadhesion</th><th scope=col>sepics</th><th scope=col>bnuclei</th><th scope=col>bchromatin</th><th scope=col>normnucl</th><th scope=col>mitoses</th><th scope=col>classe</th></tr>\n",
       "\t<tr><th scope=col>&lt;dbl&gt;</th><th scope=col>&lt;dbl&gt;</th><th scope=col>&lt;dbl&gt;</th><th scope=col>&lt;dbl&gt;</th><th scope=col>&lt;dbl&gt;</th><th scope=col>&lt;dbl&gt;</th><th scope=col>&lt;dbl&gt;</th><th scope=col>&lt;dbl&gt;</th><th scope=col>&lt;dbl&gt;</th><th scope=col>&lt;dbl&gt;</th></tr>\n",
       "</thead>\n",
       "<tbody>\n",
       "\t<tr><td>10</td><td> 6</td><td>6</td><td>2</td><td> 4</td><td>10</td><td>9</td><td> 7</td><td>1</td><td>1</td></tr>\n",
       "\t<tr><td> 4</td><td> 2</td><td>2</td><td>1</td><td> 2</td><td> 1</td><td>2</td><td> 1</td><td>1</td><td>0</td></tr>\n",
       "\t<tr><td> 1</td><td> 1</td><td>1</td><td>1</td><td> 2</td><td> 1</td><td>2</td><td> 1</td><td>1</td><td>0</td></tr>\n",
       "\t<tr><td> 2</td><td> 1</td><td>1</td><td>1</td><td> 2</td><td> 1</td><td>2</td><td> 1</td><td>1</td><td>0</td></tr>\n",
       "\t<tr><td> 4</td><td> 1</td><td>1</td><td>1</td><td> 2</td><td> 1</td><td>2</td><td> 1</td><td>1</td><td>0</td></tr>\n",
       "\t<tr><td> 1</td><td> 1</td><td>1</td><td>1</td><td> 2</td><td> 1</td><td>1</td><td> 1</td><td>1</td><td>0</td></tr>\n",
       "\t<tr><td> 1</td><td> 1</td><td>1</td><td>1</td><td> 2</td><td> 1</td><td>2</td><td> 1</td><td>1</td><td>0</td></tr>\n",
       "\t<tr><td> 5</td><td> 1</td><td>1</td><td>1</td><td> 2</td><td> 1</td><td>2</td><td> 1</td><td>1</td><td>0</td></tr>\n",
       "\t<tr><td> 3</td><td> 1</td><td>1</td><td>1</td><td> 2</td><td> 1</td><td>2</td><td> 1</td><td>1</td><td>0</td></tr>\n",
       "\t<tr><td> 1</td><td> 1</td><td>1</td><td>1</td><td> 2</td><td> 4</td><td>2</td><td> 1</td><td>1</td><td>0</td></tr>\n",
       "\t<tr><td> 5</td><td> 3</td><td>3</td><td>2</td><td> 3</td><td> 1</td><td>3</td><td> 1</td><td>1</td><td>0</td></tr>\n",
       "\t<tr><td> 4</td><td> 2</td><td>2</td><td>1</td><td> 2</td><td> 1</td><td>2</td><td> 1</td><td>1</td><td>0</td></tr>\n",
       "\t<tr><td> 1</td><td> 1</td><td>1</td><td>1</td><td> 2</td><td> 1</td><td>2</td><td> 1</td><td>1</td><td>0</td></tr>\n",
       "\t<tr><td> 2</td><td> 1</td><td>1</td><td>1</td><td> 2</td><td> 1</td><td>2</td><td> 1</td><td>1</td><td>0</td></tr>\n",
       "\t<tr><td> 4</td><td> 1</td><td>1</td><td>1</td><td> 2</td><td> 1</td><td>3</td><td> 2</td><td>1</td><td>0</td></tr>\n",
       "\t<tr><td> 1</td><td> 1</td><td>1</td><td>1</td><td> 2</td><td> 1</td><td>3</td><td> 1</td><td>1</td><td>0</td></tr>\n",
       "\t<tr><td> 6</td><td> 1</td><td>3</td><td>2</td><td> 2</td><td> 1</td><td>1</td><td> 1</td><td>1</td><td>0</td></tr>\n",
       "\t<tr><td> 3</td><td> 1</td><td>1</td><td>2</td><td> 3</td><td> 4</td><td>1</td><td> 1</td><td>1</td><td>0</td></tr>\n",
       "\t<tr><td> 2</td><td> 1</td><td>1</td><td>1</td><td> 2</td><td> 1</td><td>3</td><td> 1</td><td>1</td><td>0</td></tr>\n",
       "\t<tr><td> 5</td><td> 5</td><td>5</td><td>8</td><td>10</td><td> 8</td><td>7</td><td> 3</td><td>7</td><td>1</td></tr>\n",
       "\t<tr><td> 1</td><td> 1</td><td>1</td><td>1</td><td> 2</td><td> 1</td><td>3</td><td> 1</td><td>1</td><td>0</td></tr>\n",
       "\t<tr><td> 1</td><td> 1</td><td>1</td><td>1</td><td> 2</td><td> 1</td><td>2</td><td> 1</td><td>2</td><td>0</td></tr>\n",
       "\t<tr><td> 1</td><td> 1</td><td>1</td><td>1</td><td> 1</td><td> 1</td><td>1</td><td> 1</td><td>1</td><td>0</td></tr>\n",
       "\t<tr><td> 9</td><td> 8</td><td>8</td><td>9</td><td> 6</td><td> 3</td><td>4</td><td> 1</td><td>1</td><td>1</td></tr>\n",
       "\t<tr><td> 1</td><td> 1</td><td>1</td><td>1</td><td> 2</td><td> 1</td><td>3</td><td> 1</td><td>1</td><td>0</td></tr>\n",
       "\t<tr><td> 1</td><td> 1</td><td>3</td><td>1</td><td> 2</td><td> 1</td><td>1</td><td> 1</td><td>1</td><td>0</td></tr>\n",
       "\t<tr><td> 8</td><td> 7</td><td>8</td><td>5</td><td>10</td><td>10</td><td>7</td><td> 2</td><td>1</td><td>1</td></tr>\n",
       "\t<tr><td> 5</td><td> 2</td><td>2</td><td>2</td><td> 2</td><td> 1</td><td>1</td><td> 1</td><td>2</td><td>0</td></tr>\n",
       "\t<tr><td> 1</td><td> 1</td><td>1</td><td>1</td><td> 2</td><td> 1</td><td>1</td><td> 1</td><td>1</td><td>0</td></tr>\n",
       "\t<tr><td>10</td><td>10</td><td>8</td><td>6</td><td> 4</td><td> 5</td><td>8</td><td>10</td><td>1</td><td>1</td></tr>\n",
       "\t<tr><td>...</td><td>...</td><td>...</td><td>...</td><td>...</td><td>...</td><td>...</td><td>...</td><td>...</td><td>...</td></tr>\n",
       "\t<tr><td> 1</td><td> 1</td><td>3</td><td> 1</td><td> 1</td><td> 1</td><td> 2</td><td> 1</td><td>1</td><td>0</td></tr>\n",
       "\t<tr><td> 1</td><td> 2</td><td>1</td><td> 3</td><td> 2</td><td> 1</td><td> 2</td><td> 1</td><td>1</td><td>0</td></tr>\n",
       "\t<tr><td> 3</td><td> 3</td><td>2</td><td> 2</td><td> 3</td><td> 1</td><td> 1</td><td> 2</td><td>3</td><td>0</td></tr>\n",
       "\t<tr><td> 4</td><td> 5</td><td>5</td><td> 8</td><td> 6</td><td>10</td><td>10</td><td> 7</td><td>1</td><td>1</td></tr>\n",
       "\t<tr><td> 8</td><td> 7</td><td>5</td><td>10</td><td> 7</td><td> 9</td><td> 5</td><td> 5</td><td>4</td><td>1</td></tr>\n",
       "\t<tr><td> 4</td><td> 3</td><td>3</td><td> 1</td><td> 2</td><td> 1</td><td> 3</td><td> 3</td><td>1</td><td>0</td></tr>\n",
       "\t<tr><td> 3</td><td> 1</td><td>4</td><td> 1</td><td> 2</td><td> 4</td><td> 3</td><td> 1</td><td>1</td><td>0</td></tr>\n",
       "\t<tr><td> 3</td><td> 1</td><td>1</td><td> 1</td><td> 2</td><td> 1</td><td> 2</td><td> 1</td><td>2</td><td>0</td></tr>\n",
       "\t<tr><td> 3</td><td> 1</td><td>1</td><td> 1</td><td> 1</td><td> 1</td><td> 2</td><td> 1</td><td>1</td><td>0</td></tr>\n",
       "\t<tr><td> 2</td><td> 1</td><td>1</td><td> 1</td><td> 2</td><td> 1</td><td> 3</td><td> 1</td><td>1</td><td>0</td></tr>\n",
       "\t<tr><td> 4</td><td> 1</td><td>1</td><td> 1</td><td> 2</td><td> 2</td><td> 3</td><td> 2</td><td>1</td><td>0</td></tr>\n",
       "\t<tr><td>10</td><td> 9</td><td>7</td><td> 3</td><td> 4</td><td> 2</td><td> 7</td><td> 7</td><td>1</td><td>1</td></tr>\n",
       "\t<tr><td> 2</td><td> 1</td><td>1</td><td> 1</td><td> 2</td><td> 1</td><td> 1</td><td> 1</td><td>5</td><td>0</td></tr>\n",
       "\t<tr><td> 4</td><td> 1</td><td>1</td><td> 1</td><td> 2</td><td> 3</td><td> 2</td><td> 1</td><td>1</td><td>0</td></tr>\n",
       "\t<tr><td> 3</td><td> 1</td><td>4</td><td> 1</td><td> 2</td><td> 1</td><td> 1</td><td> 1</td><td>1</td><td>0</td></tr>\n",
       "\t<tr><td> 4</td><td>10</td><td>4</td><td> 7</td><td> 3</td><td>10</td><td> 9</td><td>10</td><td>1</td><td>1</td></tr>\n",
       "\t<tr><td> 3</td><td> 1</td><td>1</td><td> 1</td><td> 2</td><td> 1</td><td> 3</td><td> 1</td><td>1</td><td>0</td></tr>\n",
       "\t<tr><td> 5</td><td> 4</td><td>4</td><td> 9</td><td> 2</td><td>10</td><td> 5</td><td> 6</td><td>1</td><td>1</td></tr>\n",
       "\t<tr><td> 1</td><td> 1</td><td>1</td><td> 1</td><td> 1</td><td> 4</td><td> 2</td><td> 1</td><td>1</td><td>0</td></tr>\n",
       "\t<tr><td> 1</td><td> 1</td><td>1</td><td> 1</td><td> 2</td><td> 1</td><td> 1</td><td> 1</td><td>1</td><td>0</td></tr>\n",
       "\t<tr><td> 3</td><td> 1</td><td>1</td><td> 1</td><td> 2</td><td> 1</td><td> 1</td><td> 1</td><td>1</td><td>0</td></tr>\n",
       "\t<tr><td> 1</td><td> 1</td><td>1</td><td> 1</td><td> 2</td><td> 1</td><td> 1</td><td> 1</td><td>1</td><td>0</td></tr>\n",
       "\t<tr><td> 3</td><td> 1</td><td>1</td><td> 1</td><td> 2</td><td> 1</td><td> 2</td><td> 1</td><td>1</td><td>0</td></tr>\n",
       "\t<tr><td> 5</td><td> 1</td><td>2</td><td> 1</td><td> 2</td><td> 1</td><td> 1</td><td> 1</td><td>1</td><td>0</td></tr>\n",
       "\t<tr><td> 4</td><td> 1</td><td>1</td><td> 1</td><td> 2</td><td> 1</td><td> 3</td><td> 1</td><td>1</td><td>0</td></tr>\n",
       "\t<tr><td> 3</td><td> 1</td><td>1</td><td> 1</td><td> 2</td><td> 1</td><td> 2</td><td> 1</td><td>1</td><td>0</td></tr>\n",
       "\t<tr><td> 4</td><td> 1</td><td>1</td><td> 1</td><td> 2</td><td> 1</td><td> 3</td><td> 1</td><td>1</td><td>0</td></tr>\n",
       "\t<tr><td> 5</td><td> 6</td><td>5</td><td> 6</td><td>10</td><td> 1</td><td> 3</td><td> 1</td><td>1</td><td>1</td></tr>\n",
       "\t<tr><td>10</td><td> 3</td><td>5</td><td> 1</td><td>10</td><td> 5</td><td> 3</td><td>10</td><td>2</td><td>1</td></tr>\n",
       "\t<tr><td> 3</td><td> 1</td><td>1</td><td> 1</td><td> 2</td><td> 1</td><td> 2</td><td> 1</td><td>1</td><td>0</td></tr>\n",
       "</tbody>\n",
       "</table>\n"
      ],
      "text/latex": [
       "A tibble: 699 × 10\n",
       "\\begin{tabular}{llllllllll}\n",
       " clump & ucellsize & ucellshape & mgadhesion & sepics & bnuclei & bchromatin & normnucl & mitoses & classe\\\\\n",
       " <dbl> & <dbl> & <dbl> & <dbl> & <dbl> & <dbl> & <dbl> & <dbl> & <dbl> & <dbl>\\\\\n",
       "\\hline\n",
       "\t 10 &  6 & 6 & 2 &  4 & 10 & 9 &  7 & 1 & 1\\\\\n",
       "\t  4 &  2 & 2 & 1 &  2 &  1 & 2 &  1 & 1 & 0\\\\\n",
       "\t  1 &  1 & 1 & 1 &  2 &  1 & 2 &  1 & 1 & 0\\\\\n",
       "\t  2 &  1 & 1 & 1 &  2 &  1 & 2 &  1 & 1 & 0\\\\\n",
       "\t  4 &  1 & 1 & 1 &  2 &  1 & 2 &  1 & 1 & 0\\\\\n",
       "\t  1 &  1 & 1 & 1 &  2 &  1 & 1 &  1 & 1 & 0\\\\\n",
       "\t  1 &  1 & 1 & 1 &  2 &  1 & 2 &  1 & 1 & 0\\\\\n",
       "\t  5 &  1 & 1 & 1 &  2 &  1 & 2 &  1 & 1 & 0\\\\\n",
       "\t  3 &  1 & 1 & 1 &  2 &  1 & 2 &  1 & 1 & 0\\\\\n",
       "\t  1 &  1 & 1 & 1 &  2 &  4 & 2 &  1 & 1 & 0\\\\\n",
       "\t  5 &  3 & 3 & 2 &  3 &  1 & 3 &  1 & 1 & 0\\\\\n",
       "\t  4 &  2 & 2 & 1 &  2 &  1 & 2 &  1 & 1 & 0\\\\\n",
       "\t  1 &  1 & 1 & 1 &  2 &  1 & 2 &  1 & 1 & 0\\\\\n",
       "\t  2 &  1 & 1 & 1 &  2 &  1 & 2 &  1 & 1 & 0\\\\\n",
       "\t  4 &  1 & 1 & 1 &  2 &  1 & 3 &  2 & 1 & 0\\\\\n",
       "\t  1 &  1 & 1 & 1 &  2 &  1 & 3 &  1 & 1 & 0\\\\\n",
       "\t  6 &  1 & 3 & 2 &  2 &  1 & 1 &  1 & 1 & 0\\\\\n",
       "\t  3 &  1 & 1 & 2 &  3 &  4 & 1 &  1 & 1 & 0\\\\\n",
       "\t  2 &  1 & 1 & 1 &  2 &  1 & 3 &  1 & 1 & 0\\\\\n",
       "\t  5 &  5 & 5 & 8 & 10 &  8 & 7 &  3 & 7 & 1\\\\\n",
       "\t  1 &  1 & 1 & 1 &  2 &  1 & 3 &  1 & 1 & 0\\\\\n",
       "\t  1 &  1 & 1 & 1 &  2 &  1 & 2 &  1 & 2 & 0\\\\\n",
       "\t  1 &  1 & 1 & 1 &  1 &  1 & 1 &  1 & 1 & 0\\\\\n",
       "\t  9 &  8 & 8 & 9 &  6 &  3 & 4 &  1 & 1 & 1\\\\\n",
       "\t  1 &  1 & 1 & 1 &  2 &  1 & 3 &  1 & 1 & 0\\\\\n",
       "\t  1 &  1 & 3 & 1 &  2 &  1 & 1 &  1 & 1 & 0\\\\\n",
       "\t  8 &  7 & 8 & 5 & 10 & 10 & 7 &  2 & 1 & 1\\\\\n",
       "\t  5 &  2 & 2 & 2 &  2 &  1 & 1 &  1 & 2 & 0\\\\\n",
       "\t  1 &  1 & 1 & 1 &  2 &  1 & 1 &  1 & 1 & 0\\\\\n",
       "\t 10 & 10 & 8 & 6 &  4 &  5 & 8 & 10 & 1 & 1\\\\\n",
       "\t ... & ... & ... & ... & ... & ... & ... & ... & ... & ...\\\\\n",
       "\t  1 &  1 & 3 &  1 &  1 &  1 &  2 &  1 & 1 & 0\\\\\n",
       "\t  1 &  2 & 1 &  3 &  2 &  1 &  2 &  1 & 1 & 0\\\\\n",
       "\t  3 &  3 & 2 &  2 &  3 &  1 &  1 &  2 & 3 & 0\\\\\n",
       "\t  4 &  5 & 5 &  8 &  6 & 10 & 10 &  7 & 1 & 1\\\\\n",
       "\t  8 &  7 & 5 & 10 &  7 &  9 &  5 &  5 & 4 & 1\\\\\n",
       "\t  4 &  3 & 3 &  1 &  2 &  1 &  3 &  3 & 1 & 0\\\\\n",
       "\t  3 &  1 & 4 &  1 &  2 &  4 &  3 &  1 & 1 & 0\\\\\n",
       "\t  3 &  1 & 1 &  1 &  2 &  1 &  2 &  1 & 2 & 0\\\\\n",
       "\t  3 &  1 & 1 &  1 &  1 &  1 &  2 &  1 & 1 & 0\\\\\n",
       "\t  2 &  1 & 1 &  1 &  2 &  1 &  3 &  1 & 1 & 0\\\\\n",
       "\t  4 &  1 & 1 &  1 &  2 &  2 &  3 &  2 & 1 & 0\\\\\n",
       "\t 10 &  9 & 7 &  3 &  4 &  2 &  7 &  7 & 1 & 1\\\\\n",
       "\t  2 &  1 & 1 &  1 &  2 &  1 &  1 &  1 & 5 & 0\\\\\n",
       "\t  4 &  1 & 1 &  1 &  2 &  3 &  2 &  1 & 1 & 0\\\\\n",
       "\t  3 &  1 & 4 &  1 &  2 &  1 &  1 &  1 & 1 & 0\\\\\n",
       "\t  4 & 10 & 4 &  7 &  3 & 10 &  9 & 10 & 1 & 1\\\\\n",
       "\t  3 &  1 & 1 &  1 &  2 &  1 &  3 &  1 & 1 & 0\\\\\n",
       "\t  5 &  4 & 4 &  9 &  2 & 10 &  5 &  6 & 1 & 1\\\\\n",
       "\t  1 &  1 & 1 &  1 &  1 &  4 &  2 &  1 & 1 & 0\\\\\n",
       "\t  1 &  1 & 1 &  1 &  2 &  1 &  1 &  1 & 1 & 0\\\\\n",
       "\t  3 &  1 & 1 &  1 &  2 &  1 &  1 &  1 & 1 & 0\\\\\n",
       "\t  1 &  1 & 1 &  1 &  2 &  1 &  1 &  1 & 1 & 0\\\\\n",
       "\t  3 &  1 & 1 &  1 &  2 &  1 &  2 &  1 & 1 & 0\\\\\n",
       "\t  5 &  1 & 2 &  1 &  2 &  1 &  1 &  1 & 1 & 0\\\\\n",
       "\t  4 &  1 & 1 &  1 &  2 &  1 &  3 &  1 & 1 & 0\\\\\n",
       "\t  3 &  1 & 1 &  1 &  2 &  1 &  2 &  1 & 1 & 0\\\\\n",
       "\t  4 &  1 & 1 &  1 &  2 &  1 &  3 &  1 & 1 & 0\\\\\n",
       "\t  5 &  6 & 5 &  6 & 10 &  1 &  3 &  1 & 1 & 1\\\\\n",
       "\t 10 &  3 & 5 &  1 & 10 &  5 &  3 & 10 & 2 & 1\\\\\n",
       "\t  3 &  1 & 1 &  1 &  2 &  1 &  2 &  1 & 1 & 0\\\\\n",
       "\\end{tabular}\n"
      ],
      "text/markdown": [
       "\n",
       "A tibble: 699 × 10\n",
       "\n",
       "| clump &lt;dbl&gt; | ucellsize &lt;dbl&gt; | ucellshape &lt;dbl&gt; | mgadhesion &lt;dbl&gt; | sepics &lt;dbl&gt; | bnuclei &lt;dbl&gt; | bchromatin &lt;dbl&gt; | normnucl &lt;dbl&gt; | mitoses &lt;dbl&gt; | classe &lt;dbl&gt; |\n",
       "|---|---|---|---|---|---|---|---|---|---|\n",
       "| 10 |  6 | 6 | 2 |  4 | 10 | 9 |  7 | 1 | 1 |\n",
       "|  4 |  2 | 2 | 1 |  2 |  1 | 2 |  1 | 1 | 0 |\n",
       "|  1 |  1 | 1 | 1 |  2 |  1 | 2 |  1 | 1 | 0 |\n",
       "|  2 |  1 | 1 | 1 |  2 |  1 | 2 |  1 | 1 | 0 |\n",
       "|  4 |  1 | 1 | 1 |  2 |  1 | 2 |  1 | 1 | 0 |\n",
       "|  1 |  1 | 1 | 1 |  2 |  1 | 1 |  1 | 1 | 0 |\n",
       "|  1 |  1 | 1 | 1 |  2 |  1 | 2 |  1 | 1 | 0 |\n",
       "|  5 |  1 | 1 | 1 |  2 |  1 | 2 |  1 | 1 | 0 |\n",
       "|  3 |  1 | 1 | 1 |  2 |  1 | 2 |  1 | 1 | 0 |\n",
       "|  1 |  1 | 1 | 1 |  2 |  4 | 2 |  1 | 1 | 0 |\n",
       "|  5 |  3 | 3 | 2 |  3 |  1 | 3 |  1 | 1 | 0 |\n",
       "|  4 |  2 | 2 | 1 |  2 |  1 | 2 |  1 | 1 | 0 |\n",
       "|  1 |  1 | 1 | 1 |  2 |  1 | 2 |  1 | 1 | 0 |\n",
       "|  2 |  1 | 1 | 1 |  2 |  1 | 2 |  1 | 1 | 0 |\n",
       "|  4 |  1 | 1 | 1 |  2 |  1 | 3 |  2 | 1 | 0 |\n",
       "|  1 |  1 | 1 | 1 |  2 |  1 | 3 |  1 | 1 | 0 |\n",
       "|  6 |  1 | 3 | 2 |  2 |  1 | 1 |  1 | 1 | 0 |\n",
       "|  3 |  1 | 1 | 2 |  3 |  4 | 1 |  1 | 1 | 0 |\n",
       "|  2 |  1 | 1 | 1 |  2 |  1 | 3 |  1 | 1 | 0 |\n",
       "|  5 |  5 | 5 | 8 | 10 |  8 | 7 |  3 | 7 | 1 |\n",
       "|  1 |  1 | 1 | 1 |  2 |  1 | 3 |  1 | 1 | 0 |\n",
       "|  1 |  1 | 1 | 1 |  2 |  1 | 2 |  1 | 2 | 0 |\n",
       "|  1 |  1 | 1 | 1 |  1 |  1 | 1 |  1 | 1 | 0 |\n",
       "|  9 |  8 | 8 | 9 |  6 |  3 | 4 |  1 | 1 | 1 |\n",
       "|  1 |  1 | 1 | 1 |  2 |  1 | 3 |  1 | 1 | 0 |\n",
       "|  1 |  1 | 3 | 1 |  2 |  1 | 1 |  1 | 1 | 0 |\n",
       "|  8 |  7 | 8 | 5 | 10 | 10 | 7 |  2 | 1 | 1 |\n",
       "|  5 |  2 | 2 | 2 |  2 |  1 | 1 |  1 | 2 | 0 |\n",
       "|  1 |  1 | 1 | 1 |  2 |  1 | 1 |  1 | 1 | 0 |\n",
       "| 10 | 10 | 8 | 6 |  4 |  5 | 8 | 10 | 1 | 1 |\n",
       "| ... | ... | ... | ... | ... | ... | ... | ... | ... | ... |\n",
       "|  1 |  1 | 3 |  1 |  1 |  1 |  2 |  1 | 1 | 0 |\n",
       "|  1 |  2 | 1 |  3 |  2 |  1 |  2 |  1 | 1 | 0 |\n",
       "|  3 |  3 | 2 |  2 |  3 |  1 |  1 |  2 | 3 | 0 |\n",
       "|  4 |  5 | 5 |  8 |  6 | 10 | 10 |  7 | 1 | 1 |\n",
       "|  8 |  7 | 5 | 10 |  7 |  9 |  5 |  5 | 4 | 1 |\n",
       "|  4 |  3 | 3 |  1 |  2 |  1 |  3 |  3 | 1 | 0 |\n",
       "|  3 |  1 | 4 |  1 |  2 |  4 |  3 |  1 | 1 | 0 |\n",
       "|  3 |  1 | 1 |  1 |  2 |  1 |  2 |  1 | 2 | 0 |\n",
       "|  3 |  1 | 1 |  1 |  1 |  1 |  2 |  1 | 1 | 0 |\n",
       "|  2 |  1 | 1 |  1 |  2 |  1 |  3 |  1 | 1 | 0 |\n",
       "|  4 |  1 | 1 |  1 |  2 |  2 |  3 |  2 | 1 | 0 |\n",
       "| 10 |  9 | 7 |  3 |  4 |  2 |  7 |  7 | 1 | 1 |\n",
       "|  2 |  1 | 1 |  1 |  2 |  1 |  1 |  1 | 5 | 0 |\n",
       "|  4 |  1 | 1 |  1 |  2 |  3 |  2 |  1 | 1 | 0 |\n",
       "|  3 |  1 | 4 |  1 |  2 |  1 |  1 |  1 | 1 | 0 |\n",
       "|  4 | 10 | 4 |  7 |  3 | 10 |  9 | 10 | 1 | 1 |\n",
       "|  3 |  1 | 1 |  1 |  2 |  1 |  3 |  1 | 1 | 0 |\n",
       "|  5 |  4 | 4 |  9 |  2 | 10 |  5 |  6 | 1 | 1 |\n",
       "|  1 |  1 | 1 |  1 |  1 |  4 |  2 |  1 | 1 | 0 |\n",
       "|  1 |  1 | 1 |  1 |  2 |  1 |  1 |  1 | 1 | 0 |\n",
       "|  3 |  1 | 1 |  1 |  2 |  1 |  1 |  1 | 1 | 0 |\n",
       "|  1 |  1 | 1 |  1 |  2 |  1 |  1 |  1 | 1 | 0 |\n",
       "|  3 |  1 | 1 |  1 |  2 |  1 |  2 |  1 | 1 | 0 |\n",
       "|  5 |  1 | 2 |  1 |  2 |  1 |  1 |  1 | 1 | 0 |\n",
       "|  4 |  1 | 1 |  1 |  2 |  1 |  3 |  1 | 1 | 0 |\n",
       "|  3 |  1 | 1 |  1 |  2 |  1 |  2 |  1 | 1 | 0 |\n",
       "|  4 |  1 | 1 |  1 |  2 |  1 |  3 |  1 | 1 | 0 |\n",
       "|  5 |  6 | 5 |  6 | 10 |  1 |  3 |  1 | 1 | 1 |\n",
       "| 10 |  3 | 5 |  1 | 10 |  5 |  3 | 10 | 2 | 1 |\n",
       "|  3 |  1 | 1 |  1 |  2 |  1 |  2 |  1 | 1 | 0 |\n",
       "\n"
      ],
      "text/plain": [
       "    clump ucellsize ucellshape mgadhesion sepics bnuclei bchromatin normnucl\n",
       "1   10     6        6          2           4     10      9           7      \n",
       "2    4     2        2          1           2      1      2           1      \n",
       "3    1     1        1          1           2      1      2           1      \n",
       "4    2     1        1          1           2      1      2           1      \n",
       "5    4     1        1          1           2      1      2           1      \n",
       "6    1     1        1          1           2      1      1           1      \n",
       "7    1     1        1          1           2      1      2           1      \n",
       "8    5     1        1          1           2      1      2           1      \n",
       "9    3     1        1          1           2      1      2           1      \n",
       "10   1     1        1          1           2      4      2           1      \n",
       "11   5     3        3          2           3      1      3           1      \n",
       "12   4     2        2          1           2      1      2           1      \n",
       "13   1     1        1          1           2      1      2           1      \n",
       "14   2     1        1          1           2      1      2           1      \n",
       "15   4     1        1          1           2      1      3           2      \n",
       "16   1     1        1          1           2      1      3           1      \n",
       "17   6     1        3          2           2      1      1           1      \n",
       "18   3     1        1          2           3      4      1           1      \n",
       "19   2     1        1          1           2      1      3           1      \n",
       "20   5     5        5          8          10      8      7           3      \n",
       "21   1     1        1          1           2      1      3           1      \n",
       "22   1     1        1          1           2      1      2           1      \n",
       "23   1     1        1          1           1      1      1           1      \n",
       "24   9     8        8          9           6      3      4           1      \n",
       "25   1     1        1          1           2      1      3           1      \n",
       "26   1     1        3          1           2      1      1           1      \n",
       "27   8     7        8          5          10     10      7           2      \n",
       "28   5     2        2          2           2      1      1           1      \n",
       "29   1     1        1          1           2      1      1           1      \n",
       "30  10    10        8          6           4      5      8          10      \n",
       "... ...   ...       ...        ...        ...    ...     ...        ...     \n",
       "670  1     1        3           1          1      1       2          1      \n",
       "671  1     2        1           3          2      1       2          1      \n",
       "672  3     3        2           2          3      1       1          2      \n",
       "673  4     5        5           8          6     10      10          7      \n",
       "674  8     7        5          10          7      9       5          5      \n",
       "675  4     3        3           1          2      1       3          3      \n",
       "676  3     1        4           1          2      4       3          1      \n",
       "677  3     1        1           1          2      1       2          1      \n",
       "678  3     1        1           1          1      1       2          1      \n",
       "679  2     1        1           1          2      1       3          1      \n",
       "680  4     1        1           1          2      2       3          2      \n",
       "681 10     9        7           3          4      2       7          7      \n",
       "682  2     1        1           1          2      1       1          1      \n",
       "683  4     1        1           1          2      3       2          1      \n",
       "684  3     1        4           1          2      1       1          1      \n",
       "685  4    10        4           7          3     10       9         10      \n",
       "686  3     1        1           1          2      1       3          1      \n",
       "687  5     4        4           9          2     10       5          6      \n",
       "688  1     1        1           1          1      4       2          1      \n",
       "689  1     1        1           1          2      1       1          1      \n",
       "690  3     1        1           1          2      1       1          1      \n",
       "691  1     1        1           1          2      1       1          1      \n",
       "692  3     1        1           1          2      1       2          1      \n",
       "693  5     1        2           1          2      1       1          1      \n",
       "694  4     1        1           1          2      1       3          1      \n",
       "695  3     1        1           1          2      1       2          1      \n",
       "696  4     1        1           1          2      1       3          1      \n",
       "697  5     6        5           6         10      1       3          1      \n",
       "698 10     3        5           1         10      5       3         10      \n",
       "699  3     1        1           1          2      1       2          1      \n",
       "    mitoses classe\n",
       "1   1       1     \n",
       "2   1       0     \n",
       "3   1       0     \n",
       "4   1       0     \n",
       "5   1       0     \n",
       "6   1       0     \n",
       "7   1       0     \n",
       "8   1       0     \n",
       "9   1       0     \n",
       "10  1       0     \n",
       "11  1       0     \n",
       "12  1       0     \n",
       "13  1       0     \n",
       "14  1       0     \n",
       "15  1       0     \n",
       "16  1       0     \n",
       "17  1       0     \n",
       "18  1       0     \n",
       "19  1       0     \n",
       "20  7       1     \n",
       "21  1       0     \n",
       "22  2       0     \n",
       "23  1       0     \n",
       "24  1       1     \n",
       "25  1       0     \n",
       "26  1       0     \n",
       "27  1       1     \n",
       "28  2       0     \n",
       "29  1       0     \n",
       "30  1       1     \n",
       "... ...     ...   \n",
       "670 1       0     \n",
       "671 1       0     \n",
       "672 3       0     \n",
       "673 1       1     \n",
       "674 4       1     \n",
       "675 1       0     \n",
       "676 1       0     \n",
       "677 2       0     \n",
       "678 1       0     \n",
       "679 1       0     \n",
       "680 1       0     \n",
       "681 1       1     \n",
       "682 5       0     \n",
       "683 1       0     \n",
       "684 1       0     \n",
       "685 1       1     \n",
       "686 1       0     \n",
       "687 1       1     \n",
       "688 1       0     \n",
       "689 1       0     \n",
       "690 1       0     \n",
       "691 1       0     \n",
       "692 1       0     \n",
       "693 1       0     \n",
       "694 1       0     \n",
       "695 1       0     \n",
       "696 1       0     \n",
       "697 1       1     \n",
       "698 2       1     \n",
       "699 1       0     "
      ]
     },
     "metadata": {},
     "output_type": "display_data"
    }
   ],
   "source": [
    "data"
   ]
  },
  {
   "cell_type": "code",
   "execution_count": 30,
   "metadata": {},
   "outputs": [],
   "source": [
    "get_x_y <- function(formula, data) {\n",
    "    data_frame <- model.frame(formula, data)\n",
    "\n",
    "    # y <- as.factor(data_frame[, 1])\n",
    "    # levels(y) <- c(1, 0)\n",
    "    # y <- matrix(as.integer(y))\n",
    "\n",
    "\n",
    "    # y <- matrix(ifelse(data_frame[, 1] == \"malignant\", 1, 0))\n",
    "\n",
    "    y <- as.matrix(data_frame[, 1])\n",
    "\n",
    "\n",
    "    x <- data_frame[, -1]\n",
    "    x <- as.matrix(data.frame(rep(1, length(y)), x))\n",
    "\n",
    "    return(list(target = y, features = x))\n",
    "}"
   ]
  },
  {
   "cell_type": "markdown",
   "metadata": {},
   "source": [
    "## Fonction sigmoide\n",
    "\n",
    "$ \\Large h(x) =  \\frac{1}{1 + e^{-x} }  $  \n",
    "\n",
    "![equation](https://latex.codecogs.com/png.latex?%5Clarge%20h%28x%29%20%3D%20%5Cfrac%7B1%7D%7B1%20&plus;%20e%5E%7B-x%7D%20%7D)"
   ]
  },
  {
   "cell_type": "code",
   "execution_count": 31,
   "metadata": {},
   "outputs": [],
   "source": [
    "sigmoid <- function(x) {\n",
    "    return(1 / (1 + exp(-x)))\n",
    "}"
   ]
  },
  {
   "cell_type": "markdown",
   "metadata": {},
   "source": [
    "## Modèle\n",
    "\n",
    "$ \\Large F(X) = X.\\theta  $  \n",
    "![equation](https://latex.codecogs.com/png.latex?%5Clarge%20F%28X%29%20%3D%20X.%5Ctheta)"
   ]
  },
  {
   "cell_type": "code",
   "execution_count": 32,
   "metadata": {},
   "outputs": [],
   "source": [
    "x_dot_theta <- function(x, theta) {\n",
    "    return(x %*% theta)\n",
    "}"
   ]
  },
  {
   "cell_type": "markdown",
   "metadata": {},
   "source": [
    "## Fonction de la régression logistique\n",
    "\n",
    "$ \\Large h_ \\theta (x) =  \\frac{1}{1 + e^{- X.\\theta} }  $  \n",
    "![equation](https://latex.codecogs.com/png.latex?%5Clarge%20h_%20%5Ctheta%20%28x%29%20%3D%20%5Cfrac%7B1%7D%7B1%20&plus;%20e%5E%7B-%20X.%5Ctheta%7D%20%7D)"
   ]
  },
  {
   "cell_type": "code",
   "execution_count": 33,
   "metadata": {},
   "outputs": [],
   "source": [
    "probability <- function(x, theta) {\n",
    "    return(sigmoid(x_dot_theta(x, theta))) # nolint\n",
    "}"
   ]
  },
  {
   "cell_type": "markdown",
   "metadata": {},
   "source": [
    "## Fonction de cout"
   ]
  },
  {
   "cell_type": "markdown",
   "metadata": {},
   "source": [
    "$ \\Large J(\\theta) = -\\frac{1}{m} \\sum y \\times log(\\sigma(X.\\theta)) + (1-y) \\times (1-\\sigma(X.\\theta)) $  \n",
    "![equation](https://latex.codecogs.com/png.latex?%5Clarge%20J%28%5Ctheta%29%20%3D%20-%5Cfrac%7B1%7D%7Bm%7D%20%5Csum%20y%20%5Ctimes%20log%28%5Csigma%28X.%5Ctheta%29%29%20&plus;%20%281-y%29%20%5Ctimes%20%281-%5Csigma%28X.%5Ctheta%29%29)"
   ]
  },
  {
   "cell_type": "code",
   "execution_count": 34,
   "metadata": {},
   "outputs": [],
   "source": [
    "cost_function <- function(x, y, theta) {\n",
    "    m <- nrow(y)\n",
    "    g <- probability(x, theta) # nolint\n",
    "    j <- (1 / m) * sum((-y * log(g)) - ((1 - y) * log(1 - g)))\n",
    "    return(j)\n",
    "}"
   ]
  },
  {
   "cell_type": "markdown",
   "metadata": {},
   "source": [
    "## Calcul du gradient\n",
    "\n",
    "$\\Large \\frac{\\partial J(\\theta) }{\\partial \\theta} = \\frac{1}{m} X^T.(\\sigma(X.\\theta)-y)$  \n",
    "![equation](https://latex.codecogs.com/gif.latex?%5Cfrac%7B%5Cpartial%20J%28%5Ctheta%29%20%7D%7B%5Cpartial%20%5Ctheta%7D%20%3D%20%5Cfrac%7B1%7D%7Bm%7D%20X%5ET.%28%5Csigma%28X.%5Ctheta%29-y%29)\n",
    "\n"
   ]
  },
  {
   "cell_type": "code",
   "execution_count": 35,
   "metadata": {},
   "outputs": [],
   "source": [
    "# Gradient : calcul des dérivées partielles de chacun des paramètres de theta\n",
    "gradient <- function(x, y, theta) {\n",
    "    m <- nrow(y)\n",
    "    return((1 / m) * x_dot_theta(t(x), probability(x, theta) - y)) # nolint\n",
    "}"
   ]
  },
  {
   "cell_type": "markdown",
   "metadata": {},
   "source": [
    "## Descente de gradient\n",
    "\n",
    "$\\Large \\theta = \\theta - \\alpha \\frac{\\partial J(\\theta) }{\\partial \\theta}$  \n",
    "![equation](https://latex.codecogs.com/png.latex?%5Clarge%20%5Ctheta%20%3D%20%5Ctheta%20-%20%5Calpha%20%5Cfrac%7B%5Cpartial%20J%28%5Ctheta%29%20%7D%7B%5Cpartial%20%5Ctheta%7D)\n",
    "\n",
    "\n"
   ]
  },
  {
   "cell_type": "code",
   "execution_count": 36,
   "metadata": {},
   "outputs": [],
   "source": [
    "batch_gradient_descent <- function(X, theta, learning_rate, n_iter) {\n",
    "    \n",
    "    x <- X[[1]]\n",
    "    y <- X[[2]]\n",
    "\n",
    "    cost_history <- c(cost_function(x, y, theta)) # nolint\n",
    "    m <- nrow(y)\n",
    "\n",
    "    for (i in 1:n_iter) {\n",
    "        # Shuffle data\n",
    "        random_index <- sample(x = m, size = m)\n",
    "        # Update theta\n",
    "        theta <- theta - learning_rate * gradient(x[random_index, ], as.matrix(y[random_index, ]), theta) # nolint\n",
    "        cost_history <- c(cost_history, cost_function(x, y, theta)) # nolint\n",
    "    }\n",
    "    return(list(theta = theta, cost_history = cost_history))\n",
    "}"
   ]
  },
  {
   "cell_type": "code",
   "execution_count": 37,
   "metadata": {},
   "outputs": [],
   "source": [
    "stochastic_gradient_descent <- function(X, theta, learning_rate, n_iter) {\n",
    "    x <- X[[1]]\n",
    "    y <- X[[2]]\n",
    "    \n",
    "    cost_history <- c(cost_function(x, y, theta)) # nolint\n",
    "    m <- nrow(y)\n",
    "    random_index <- sample(x = m, size = m)\n",
    "    for (i in 1:n_iter) {\n",
    "        # Shuffle data\n",
    "        random_index <- sample(x = m, size = m)\n",
    "        for (j in 1:m) {\n",
    "            # Update theta\n",
    "            y_i <- as.matrix(y[random_index[j], ])\n",
    "            x_i <- t(as.matrix(x[random_index[j], ]))\n",
    "            theta <- theta - learning_rate * gradient(x_i, y_i, theta) # nolint\n",
    "            cost_history <- c(cost_history, cost_function(x, y, theta)) # nolint\n",
    "        }\n",
    "    }\n",
    "    return(list(theta = theta, cost_history = cost_history))\n",
    "}"
   ]
  },
  {
   "cell_type": "code",
   "execution_count": 38,
   "metadata": {},
   "outputs": [],
   "source": [
    "mini_batch_gradient_descent <- function(X, theta, learning_rate, n_iter, batch_size) {\n",
    "\n",
    "    x <- X[[1]]\n",
    "    y <- X[[2]]\n",
    "    \n",
    "    cost_history <- c(cost_function(x, y, theta))\n",
    "    m <- nrow(y)\n",
    "\n",
    "    for (i in 1:n_iter) {\n",
    "        # Shuffle data\n",
    "        random_index <- sample(x = m, size = m)\n",
    "        x <- as.matrix(x[random_index, ])\n",
    "        y <- as.matrix(y[random_index, ])\n",
    "        x_i <- c()\n",
    "        y_i <- c()\n",
    "\n",
    "        index <- seq(1, m, batch_size - 1)\n",
    "\n",
    "        for (j in 1:trunc(m / batch_size)) {\n",
    "            y_i <- as.matrix(y[index[[j]]:index[[j + 1]], ])\n",
    "            x_i <- as.matrix(x[index[[j]]:index[[j + 1]], ])\n",
    "            theta <- theta - learning_rate * gradient(x_i, y_i, theta)\n",
    "            cost_history <- c(cost_history, cost_function(x, y, theta))\n",
    "        }\n",
    "    }\n",
    "    return(list(theta = theta, cost_history = cost_history))\n",
    "}"
   ]
  },
  {
   "cell_type": "code",
   "execution_count": 52,
   "metadata": {},
   "outputs": [],
   "source": [
    "parallelisation <- function(x, y, ncores, fonction, theta, learning_rate, n_iter){\n",
    "    #Création des blocs\n",
    "    m <- nrow(y)\n",
    "    blocs_size <- trunc((m / ncores))\n",
    "    blocs <- list()\n",
    "    index <- seq(1, m, blocs_size - 1)\n",
    "    for (j in 1:trunc(m / blocs_size)) {\n",
    "        y_i <- as.matrix(y[index[[j]]:index[[j + 1]], ])\n",
    "        x_i <- as.matrix(x[index[[j]]:index[[j + 1]], ])\n",
    "        blocs[[j]] <- list(x_i, y_i)\n",
    "    }\n",
    "\n",
    "    #Parallel\n",
    "    clust <- parallel::makeCluster(ncores)\n",
    "    clusterExport(clust, c(\"gradient\" ,\"x_dot_theta\" ,\"sigmoid\" ,\"probability\" , \"cost_function\", \"get_x_y\"), # nolint\n",
    "                envir=environment())\n",
    "\n",
    "    res <- parallel::parSapply(clust, X = blocs, FUN = fonction, theta = theta, learning_rate = learning_rate, n_iter = n_iter) # nolint\n",
    "    parallel::stopCluster(clust)\n",
    "return(res)\n",
    "}"
   ]
  },
  {
   "cell_type": "code",
   "execution_count": 112,
   "metadata": {},
   "outputs": [],
   "source": [
    "moyenne <- function(gradient_descent){\n",
    "\n",
    "    theta <- c()\n",
    "    \n",
    "    for (j in 1:(dim(gradient_descent[1,1]$theta)[1])){ #error\n",
    "        temp <- 0\n",
    "        for (i in 1:(dim(gradient_descent)[2])) {\n",
    "            temp <- temp + (gradient_descent[1,i]$theta[j])\n",
    "    }\n",
    "        moy <- temp/(dim(gradient_descent)[2])\n",
    "        theta <- rbind(theta,moy)\n",
    "    }       \n",
    "\n",
    "    ###cost_history\n",
    "    cost_history <- c()\n",
    "\n",
    "    for (j in 1:(length(gradient_descent[2,1]$cost_history)[1])){\n",
    "        maxi <- 0\n",
    "        for (i in 1:(dim(gradient_descent)[2])) {\n",
    "            maxi <- max(gradient_descent[2,i]$cost_history[j])\n",
    "        }\n",
    "        cost_history <- rbind(cost_history,maxi)\n",
    "    }\n",
    "    return(list(theta = theta, cost_history = cost_history))\n",
    "}"
   ]
  },
  {
   "cell_type": "code",
   "execution_count": 50,
   "metadata": {},
   "outputs": [],
   "source": [
    "# Gradient descent\n",
    "fit <- function(formula, data, mode, batch_size, learning_rate, n_iter, ncores) { # nolint\n",
    "\n",
    "    x_y <- get_x_y(formula, data) # nolint\n",
    "    \n",
    "    x <- x_y$features\n",
    "    y <- x_y$target\n",
    "    initial_theta <- as.matrix(rnorm(n = dim(x)[2], mean = 0, sd = 1))\n",
    "\n",
    "\n",
    "\n",
    "\n",
    "    if (mode == \"batch\" || (mode == \"mini-batch\" && batch_size >= nrow(y))) {\n",
    " \n",
    "        gradient_descent <- parallelisation (x, y, ncores, batch_gradient_descent, initial_theta, learning_rate, n_iter) # nolint\n",
    "\n",
    "    } else if (mode == \"stochastic\" || (mode == \"mini-batch\" && batch_size == 1)) { # nolint\n",
    "\n",
    "        gradient_descent <- parallelisation (x, y, ncores, stochastic_gradient_descent, initial_theta, learning_rate, n_iter) # nolint\n",
    "\n",
    "    } else if (mode == \"mini-batch\") {\n",
    "\n",
    "        gradient_descent <- parallelisation (x, y, ncores, mini_batch_gradient_descent, initial_theta, learning_rate, n_iter) # nolint\n",
    "\n",
    "    } else {\n",
    "\n",
    "        return(\"erreur\")\n",
    "\n",
    "    }\n",
    "\n",
    "    gradient_descent <- moyenne(gradient_descent)\n",
    "    # Création de l'instance\n",
    "    inst <- list(formula = formula, x = x, y = y, mode = mode, batch_size = batch_size, learning_rate = learning_rate, n_iter = n_iter, # nolint\n",
    "        initial_theta = initial_theta, theta = gradient_descent[[1]], cost_history = gradient_descent[[2]], ncores=ncores) # nolint\n",
    "\n",
    "    attr(inst, \"class\") <- \"Reg.Log\"\n",
    "    return(inst)\n",
    "}"
   ]
  },
  {
   "cell_type": "code",
   "execution_count": 42,
   "metadata": {},
   "outputs": [],
   "source": [
    "# Surchage de la fonction print pour l'objet retourné par fit\n",
    "print.Reg.Log <- function(obj) { # nolint\n",
    "    cat(\"Model:\", as.character(obj$formula), \"\\n\")\n",
    "    cat(\"Mode:\", obj$mode, \"\\n\")\n",
    "    cat(\"Learning rate:\", obj$learning_rate, \"\\n\")\n",
    "    cat(\"n_iter:\", obj$n_iter, \"\\n\")\n",
    "    cat(\"Batch size:\", obj$batch_size, \"\\n\")\n",
    "    cat(\"Coefficient:\", obj$theta, \"\\n\")\n",
    "    cat(\"Cost history:\", obj$cost_history)\n",
    "}"
   ]
  },
  {
   "cell_type": "code",
   "execution_count": 113,
   "metadata": {},
   "outputs": [
    {
     "name": "stdout",
     "output_type": "stream",
     "text": [
      "Model: classe ~ . \n",
      "Mode: batch \n",
      "Learning rate: 0.1 \n",
      "n_iter: 4 \n",
      "Batch size: 32 \n",
      "Coefficient: 1.749993 2.792689 0.3067741 -1.324186 -0.6491916 -1.979598 -0.08564103 0.9828306 -0.2103935 -0.8767296 \n",
      "Cost history: 4.412022 4.255741 4.10344 3.953414 3.80531"
     ]
    }
   ],
   "source": [
    "# Print de l'objet de la classe fit\n",
    "obj.Reg.Log <- fit(classe ~ ., data, mode = \"batch\", batch_size = 32, learning_rate = 0.1, n_iter = 4,ncores = 3) # nolint\n",
    "print(obj.Reg.Log)"
   ]
  },
  {
   "cell_type": "code",
   "execution_count": 90,
   "metadata": {},
   "outputs": [
    {
     "data": {
      "text/html": [
       "<table class=\"dataframe\">\n",
       "<caption>A matrix: 10 × 1 of type dbl</caption>\n",
       "<tbody>\n",
       "\t<tr><th scope=row>moy</th><td> 0.132165600</td></tr>\n",
       "\t<tr><th scope=row>moy</th><td>-1.570276781</td></tr>\n",
       "\t<tr><th scope=row>moy</th><td> 0.117456622</td></tr>\n",
       "\t<tr><th scope=row>moy</th><td>-1.264502109</td></tr>\n",
       "\t<tr><th scope=row>moy</th><td> 0.046362804</td></tr>\n",
       "\t<tr><th scope=row>moy</th><td> 0.918569000</td></tr>\n",
       "\t<tr><th scope=row>moy</th><td>-0.024278455</td></tr>\n",
       "\t<tr><th scope=row>moy</th><td> 1.809180427</td></tr>\n",
       "\t<tr><th scope=row>moy</th><td> 1.044526134</td></tr>\n",
       "\t<tr><th scope=row>moy</th><td> 0.004200043</td></tr>\n",
       "</tbody>\n",
       "</table>\n"
      ],
      "text/latex": [
       "A matrix: 10 × 1 of type dbl\n",
       "\\begin{tabular}{r|l}\n",
       "\tmoy &  0.132165600\\\\\n",
       "\tmoy & -1.570276781\\\\\n",
       "\tmoy &  0.117456622\\\\\n",
       "\tmoy & -1.264502109\\\\\n",
       "\tmoy &  0.046362804\\\\\n",
       "\tmoy &  0.918569000\\\\\n",
       "\tmoy & -0.024278455\\\\\n",
       "\tmoy &  1.809180427\\\\\n",
       "\tmoy &  1.044526134\\\\\n",
       "\tmoy &  0.004200043\\\\\n",
       "\\end{tabular}\n"
      ],
      "text/markdown": [
       "\n",
       "A matrix: 10 × 1 of type dbl\n",
       "\n",
       "| moy |  0.132165600 |\n",
       "| moy | -1.570276781 |\n",
       "| moy |  0.117456622 |\n",
       "| moy | -1.264502109 |\n",
       "| moy |  0.046362804 |\n",
       "| moy |  0.918569000 |\n",
       "| moy | -0.024278455 |\n",
       "| moy |  1.809180427 |\n",
       "| moy |  1.044526134 |\n",
       "| moy |  0.004200043 |\n",
       "\n"
      ],
      "text/plain": [
       "    [,1]        \n",
       "moy  0.132165600\n",
       "moy -1.570276781\n",
       "moy  0.117456622\n",
       "moy -1.264502109\n",
       "moy  0.046362804\n",
       "moy  0.918569000\n",
       "moy -0.024278455\n",
       "moy  1.809180427\n",
       "moy  1.044526134\n",
       "moy  0.004200043"
      ]
     },
     "metadata": {},
     "output_type": "display_data"
    }
   ],
   "source": [
    "obj.Reg.Log$theta"
   ]
  },
  {
   "cell_type": "code",
   "execution_count": null,
   "metadata": {},
   "outputs": [
    {
     "name": "stdout",
     "output_type": "stream",
     "text": [
      "\n",
      "Call:  glm(formula = classe ~ clump + ucellsize, family = \"binomial\", \n",
      "    data = data)\n",
      "\n",
      "Coefficients:\n",
      "(Intercept)        clump    ucellsize  \n",
      "    -7.1517       0.6174       1.1751  \n",
      "\n",
      "Degrees of Freedom: 698 Total (i.e. Null);  696 Residual\n",
      "Null Deviance:\t    900.5 \n",
      "Residual Deviance: 212.3 \tAIC: 218.3\n"
     ]
    }
   ],
   "source": [
    "# Comparaison de print de glm\n",
    "obj <- glm(classe ~ clump + ucellsize, data = data, family = \"binomial\")\n",
    "print(obj)"
   ]
  },
  {
   "cell_type": "code",
   "execution_count": null,
   "metadata": {},
   "outputs": [],
   "source": [
    "# Surcharge de la fonction summary pour l'objet retourné par fit\n",
    "summary.Reg.Log <- function(obj) {\n",
    "    cat(\"Model:\", as.character(obj$formula), \"\\n\")\n",
    "    cat(\"Mode:\", obj$mode, \"\\n\")\n",
    "    cat(\"Learning rate:\", obj$learning_rate, \"\\n\")\n",
    "    cat(\"n_iter:\", obj$n_iter, \"\\n\")\n",
    "    cat(\"Batch size:\", obj$batch_size, \"\\n\")\n",
    "    cat(\"Coefficient:\", obj$theta, \"\\n\")\n",
    "    cat(\"Cost history:\", obj$cost_history)\n",
    "}"
   ]
  },
  {
   "cell_type": "code",
   "execution_count": null,
   "metadata": {},
   "outputs": [],
   "source": []
  },
  {
   "cell_type": "code",
   "execution_count": null,
   "metadata": {},
   "outputs": [
    {
     "data": {
      "text/plain": [
       "\n",
       "Call:\n",
       "glm(formula = classe ~ clump + ucellsize, family = \"binomial\", \n",
       "    data = data)\n",
       "\n",
       "Deviance Residuals: \n",
       "    Min       1Q   Median       3Q      Max  \n",
       "-3.7760  -0.2431  -0.0969   0.0303   2.6596  \n",
       "\n",
       "Coefficients:\n",
       "            Estimate Std. Error z value Pr(>|z|)    \n",
       "(Intercept) -7.15170    0.60084 -11.903  < 2e-16 ***\n",
       "clump        0.61739    0.09229   6.690 2.24e-11 ***\n",
       "ucellsize    1.17507    0.12309   9.547  < 2e-16 ***\n",
       "---\n",
       "Signif. codes:  0 '***' 0.001 '**' 0.01 '*' 0.05 '.' 0.1 ' ' 1\n",
       "\n",
       "(Dispersion parameter for binomial family taken to be 1)\n",
       "\n",
       "    Null deviance: 900.53  on 698  degrees of freedom\n",
       "Residual deviance: 212.31  on 696  degrees of freedom\n",
       "AIC: 218.31\n",
       "\n",
       "Number of Fisher Scoring iterations: 7\n"
      ]
     },
     "metadata": {},
     "output_type": "display_data"
    }
   ],
   "source": [
    "# Comparaison de summary de glm\n",
    "obj <- glm(classe ~ clump + ucellsize, data = data, family = \"binomial\")\n",
    "summary(obj)"
   ]
  },
  {
   "cell_type": "code",
   "execution_count": null,
   "metadata": {},
   "outputs": [],
   "source": [
    "predict2 <- function(Reg.log, newdata, type) {\n",
    "\n",
    "    # New data control\n",
    "    \n",
    "    # Probability of belonging\n",
    "    probs = probability(newdata, Reg.Log$theta)\n",
    "\n",
    "    if (type == \"classe\") {\n",
    "        return(unlist(ifelse(probs > 0.5, 1, 0)))\n",
    "    }else if (type == \"posterior\") {\n",
    "        return(probs)\n",
    "    }\n",
    "\n",
    "}"
   ]
  },
  {
   "cell_type": "code",
   "execution_count": 96,
   "metadata": {},
   "outputs": [],
   "source": [
    "predict <- function(x, theta) {\n",
    "    predictions <- ifelse(probability(x, theta) > 0.5, 1, 0)\n",
    "    return(predictions)\n",
    "}"
   ]
  },
  {
   "cell_type": "code",
   "execution_count": 91,
   "metadata": {},
   "outputs": [],
   "source": [
    "# Courbe parfois inversée ??? -> Cout initial négatif qui semble provoquer une\n",
    "\n",
    "res1 <- fit(classe ~ ., data, mode = \"batch\", batch_size = 32, learning_rate = 0.01, n_iter = 500, ncore = 3)\n",
    "\n",
    "\n"
   ]
  },
  {
   "cell_type": "code",
   "execution_count": 100,
   "metadata": {},
   "outputs": [
    {
     "data": {
      "text/html": [
       "501"
      ],
      "text/latex": [
       "501"
      ],
      "text/markdown": [
       "501"
      ],
      "text/plain": [
       "[1] 501"
      ]
     },
     "metadata": {},
     "output_type": "display_data"
    }
   ],
   "source": [
    "length(res1$cost_history)"
   ]
  },
  {
   "cell_type": "code",
   "execution_count": 114,
   "metadata": {},
   "outputs": [
    {
     "name": "stdout",
     "output_type": "stream",
     "text": [
      "[1] 0.8597997\n"
     ]
    },
    {
     "data": {
      "image/png": "[encoded data removed]",
      "text/plain": [
       "plot without title"
      ]
     },
     "metadata": {
      "image/png": {
       "height": 420,
       "width": 420
      }
     },
     "output_type": "display_data"
    }
   ],
   "source": [
    "y_pred <- predict(res1$x, res1$theta)\n",
    "\n",
    "\n",
    "plot(seq(1, length(res1$cost_history)), res1$cost_history, type = \"l\")\n",
    "\n",
    "accuracy <- mean(y_pred == res1$y)\n",
    "print(accuracy)"
   ]
  },
  {
   "cell_type": "code",
   "execution_count": null,
   "metadata": {},
   "outputs": [],
   "source": [
    "predict_bis(res1,"
   ]
  },
  {
   "cell_type": "code",
   "execution_count": null,
   "metadata": {},
   "outputs": [
    {
     "name": "stdout",
     "output_type": "stream",
     "text": [
      "                          [,1]\n",
      "rep.1..length.y.. -3.368826014\n",
      "clump             -0.003506896\n",
      "ucellsize          0.542032968\n",
      "ucellshape         0.182715904\n",
      "mgadhesion         0.073933335\n",
      "sepics            -0.372169639\n",
      "bnuclei            0.471964817\n",
      "bchromatin        -0.103366823\n",
      "normnucl           0.253806909\n",
      "mitoses            0.010842844\n",
      "[1] 0.962804\n"
     ]
    },
    {
     "data": {
      "image/png": "[encoded data removed]",
      "text/plain": [
       "plot without title"
      ]
     },
     "metadata": {
      "image/png": {
       "height": 420,
       "width": 420
      }
     },
     "output_type": "display_data"
    }
   ],
   "source": [
    "res2 <- fit(classe ~ ., data, mode = \"stochastic\", batch_size = 32, learning_rate = 0.01, n_iter = 5)\n",
    "y_pred <- predict(res2$x, res2$theta)\n",
    "plot(seq(1, length(res2$cost_history)), res2$cost_history, type = \"l\")\n",
    "\n",
    "print(res2$theta)\n",
    "\n",
    "accuracy <- mean(y_pred == res2$y)\n",
    "print(accuracy)"
   ]
  },
  {
   "cell_type": "code",
   "execution_count": null,
   "metadata": {},
   "outputs": [
    {
     "name": "stdout",
     "output_type": "stream",
     "text": [
      "                         [,1]\n",
      "rep.1..length.y..  1.44312259\n",
      "clump             -0.61622946\n",
      "ucellsize          2.62347639\n",
      "ucellshape        -1.51469348\n",
      "mgadhesion        -0.55663665\n",
      "sepics            -0.06212571\n",
      "bnuclei            0.88112785\n",
      "bchromatin        -0.75964021\n",
      "normnucl           0.80834667\n",
      "mitoses           -1.25778846\n",
      "[1] 0.702432\n"
     ]
    },
    {
     "data": {
      "image/png": "[encoded data removed]",
      "text/plain": [
       "plot without title"
      ]
     },
     "metadata": {
      "image/png": {
       "height": 420,
       "width": 420
      }
     },
     "output_type": "display_data"
    }
   ],
   "source": [
    "res3 <- fit(classe ~ . , data, mode = \"mini-batch\", batch_size = 32, learning_rate = 0.01, n_iter = 20)\n",
    "y_pred <- predict(res3$x, res3$theta)\n",
    "plot(seq(1, length(res3$cost_history)), res3$cost_history, type = \"l\")\n",
    "\n",
    "print(res3$theta)\n",
    "\n",
    "accuracy <- mean(y_pred == res3$y)\n",
    "print(accuracy)"
   ]
  }
 ],
 "metadata": {
  "interpreter": {
   "hash": "cf9b4918671f1076c11ed1e14d4ba3c6655ac5d7825a7b359e5111bb528a1ccf"
  },
  "kernelspec": {
   "display_name": "R",
   "language": "R",
   "name": "ir"
  },
  "language_info": {
   "codemirror_mode": "r",
   "file_extension": ".r",
   "mimetype": "text/x-r-source",
   "name": "R",
   "pygments_lexer": "r",
   "version": "4.1.1"
  },
  "orig_nbformat": 4
 },
 "nbformat": 4,
 "nbformat_minor": 2
}
